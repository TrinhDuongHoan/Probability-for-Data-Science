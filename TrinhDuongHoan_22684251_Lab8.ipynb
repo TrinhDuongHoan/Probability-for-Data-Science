{
 "cells": [
  {
   "cell_type": "markdown",
   "id": "5e303550",
   "metadata": {},
   "source": [
    "## XÁC SUẤT TRONG KHOA HỌC DỮ LIỆU IUH 2024\n",
    "\n",
    "### Lab 08. Vector ngẫu nhiên. Ngày 08/04."
   ]
  },
  {
   "cell_type": "markdown",
   "id": "011dc8f1",
   "metadata": {},
   "source": [
    "## Phân bố đồng thời và hệ số tương quan rời rạc.\n",
    "\n",
    "Phân bố xác suất đồng thời cho hai đại lượng ngẫu nhiên rời rạc $X, Y$ sẽ được ký hiệu bởi $p_{ij} = P(X=x_i, Y = y_i)$. Do tính rời rạc của các biến, ta có thể liệt kê chúng thành bảng có dạng sau:"
   ]
  },
  {
   "cell_type": "markdown",
   "id": "4ede1193",
   "metadata": {},
   "source": [
    "| $X$ | $y_1$ | $y_2$ | $\\ldots$ | $y_n$\n",
    "| --- | --- | --- | --- | ---\n",
    "| $x_1$ | $p_{11}$ | $p_{12}$ | $\\ldots$ | $p_{1n}$\n",
    "| $x_2$ | $p_{21}$ | $p_{22}$ | $\\ldots$ | $p_{2n}$\n",
    "| ... | ... | ... | ... | ...\n",
    "| $x_m$ | $p_{m1}$ | $p_{m2}$ | $\\ldots$ | $p_{mn}$"
   ]
  },
  {
   "cell_type": "markdown",
   "id": "e13d76f7",
   "metadata": {},
   "source": [
    "Ta biết rằng: <br>\n",
    "1. Tổng các số trên bảng vừa bằng $1$. <br>\n",
    "2. Để tính $P(X=x_i)$, ta tính tổng các số ở hàng $i$.\n",
    "3. Để tính $P(Y=y_i)$, ta tính tổng các số ở cột $i$.\n",
    "4. Hai đại lượng $X,Y$ độc lập nhau khi và chỉ khi có ràng buộc về xác suất $P_{ij} = P_i P_j$ với mọi $i,j.$"
   ]
  },
  {
   "cell_type": "markdown",
   "id": "476754e0",
   "metadata": {},
   "source": [
    "Các khái niệm mới: <br>\n",
    "1. Covarian: $$\\operatorname{cov}(X,Y)=E(XY)-E(X)\\cdot E(Y).$$\n",
    "2. Hệ số tương quan: $$\\rho (X,Y)=\\frac{\\operatorname{cov}(X,Y)}{\\sqrt{D(X) \\cdot D(Y)}}.$$\n",
    "Ý nghĩa: đo mức độ phụ thuộc tuyến tính giữa hai đại lượng $X,Y$. Tính chất: $-1\\le \\rho (X,Y)\\le 1.$ <br>\n",
    "Nếu $X,Y$ độc lập thì $\\operatorname{cov}(X,Y)=0$ và kéo theo $\\rho (X,Y)=0.$ <br>\n",
    "Còn nếu $\\rho (X,Y)=0$ thì chưa chắc $X,Y$ độc lập. Nếu $\\rho (X,Y)\\ne 0$ thì chắc chắn $X,Y$ là phụ thuộc.\n"
   ]
  },
  {
   "cell_type": "markdown",
   "id": "146fc925",
   "metadata": {},
   "source": [
    "Link tham khảo: \n",
    "\n",
    "https://datatofish.com/covariance-matrix-python/\n",
    "\n",
    "https://www.geeksforgeeks.org/exploring-correlation-in-python/"
   ]
  },
  {
   "cell_type": "markdown",
   "id": "4397ec7d",
   "metadata": {},
   "source": [
    "**Ví dụ.** Cho vector ngẫu nhiên rời rạc $(X,Y)$ có bảng phân bố xác suất như bên dưới ($\\Omega_X = \\{1,4\\}, \\Omega_Y = \\{1,3,5\\}$). Hãy trả lời các câu hỏi sau"
   ]
  },
  {
   "cell_type": "markdown",
   "id": "e84a9a91",
   "metadata": {},
   "source": [
    "|X & Y     | 1    | 3     | 5    |\n",
    "|----------|------|-------|------|\n",
    "| **1**    | 0.15 | 0.25   | 0.1 | \n",
    "| **4**    | 0.05  | 0.3   | 0.15  |"
   ]
  },
  {
   "cell_type": "markdown",
   "id": "31526fa3",
   "metadata": {},
   "source": [
    "1) Tính các phân phối lề theo từng biến. Từ đó tính $P(X=4 | Y = 3).$ <br>\n",
    "\n",
    "2) Tính $cov(X,Y)$ và hệ số tương quan giữa $X,Y$ bằng các thư viện thích hợp. Từ đó cho biết $X,Y$ có độc lập không? <br>"
   ]
  },
  {
   "cell_type": "markdown",
   "id": "9ae92b55",
   "metadata": {},
   "source": [
    "**Lời giải chi tiết và code minh họa.**"
   ]
  },
  {
   "cell_type": "markdown",
   "id": "7db23e7d",
   "metadata": {},
   "source": [
    "**1) Tính các phân phối lề theo từng biến. Từ đó tính $P(X=4 | Y = 3).$ <br>**\n",
    "\n",
    "\n",
    "$\\rightarrow$ Tổng hàng ngag là $P_X(X=x)$, tổng hàng dọc là $P_Y(Y=y)$\n",
    "- Phân phối lề của X\n",
    "\n",
    "|     |   1 |   4 |\n",
    "|:----|----:|----:|\n",
    "| **P_X** | 0.5 | 0.5 |\n",
    "\n",
    "- Phân phối lề của Y\n",
    "|     |   1 |    3 |    5 |\n",
    "|:----|----:|-----:|-----:|\n",
    "| **P_Y** | 0.2 | 0.55 | 0.25 |\n",
    "\n",
    "\n",
    "- Từ đó tính $P(X=4 | Y=3) = \\dfrac{P(Y=3, X=4)}{P(Y=3)} = 0.55 $"
   ]
  },
  {
   "cell_type": "code",
   "execution_count": 1,
   "id": "5b165ed7",
   "metadata": {},
   "outputs": [
    {
     "data": {
      "text/html": [
       "<div>\n",
       "<style scoped>\n",
       "    .dataframe tbody tr th:only-of-type {\n",
       "        vertical-align: middle;\n",
       "    }\n",
       "\n",
       "    .dataframe tbody tr th {\n",
       "        vertical-align: top;\n",
       "    }\n",
       "\n",
       "    .dataframe thead th {\n",
       "        text-align: right;\n",
       "    }\n",
       "</style>\n",
       "<table border=\"1\" class=\"dataframe\">\n",
       "  <thead>\n",
       "    <tr style=\"text-align: right;\">\n",
       "      <th></th>\n",
       "      <th>1</th>\n",
       "      <th>3</th>\n",
       "      <th>5</th>\n",
       "    </tr>\n",
       "  </thead>\n",
       "  <tbody>\n",
       "    <tr>\n",
       "      <th>1</th>\n",
       "      <td>0.15</td>\n",
       "      <td>0.25</td>\n",
       "      <td>0.10</td>\n",
       "    </tr>\n",
       "    <tr>\n",
       "      <th>4</th>\n",
       "      <td>0.05</td>\n",
       "      <td>0.30</td>\n",
       "      <td>0.15</td>\n",
       "    </tr>\n",
       "  </tbody>\n",
       "</table>\n",
       "</div>"
      ],
      "text/plain": [
       "      1     3     5\n",
       "1  0.15  0.25  0.10\n",
       "4  0.05  0.30  0.15"
      ]
     },
     "execution_count": 1,
     "metadata": {},
     "output_type": "execute_result"
    }
   ],
   "source": [
    "# Tạo dataframe là các gồm 2 vector X và Y (xem như ma trận để xử lí)\n",
    "import pandas as pd\n",
    "d = {1 : [0, 0.15, 0 , 0, 0.05], 3: [0, 0.25, 0 , 0, 0.3], 5: [0, 0.1, 0, 0,  0.15]}\n",
    "df = pd.DataFrame(d)\n",
    "df = df.drop(labels=[0, 2 , 3])\n",
    "df"
   ]
  },
  {
   "cell_type": "code",
   "execution_count": 2,
   "id": "caf0c112",
   "metadata": {},
   "outputs": [
    {
     "name": "stdout",
     "output_type": "stream",
     "text": [
      "|     |   1 |   4 |\n",
      "|:----|----:|----:|\n",
      "| P_X | 0.5 | 0.5 |\n"
     ]
    }
   ],
   "source": [
    "# Tính phân phối lề của X\n",
    "P_X = pd.DataFrame( (df[1] +  df[3] + df[5]) , columns = ['P_X']).T\n",
    "print(P_X.to_markdown())"
   ]
  },
  {
   "cell_type": "code",
   "execution_count": 3,
   "id": "5cb2961d",
   "metadata": {},
   "outputs": [
    {
     "name": "stdout",
     "output_type": "stream",
     "text": [
      "|     |   1 |    3 |    5 |\n",
      "|:----|----:|-----:|-----:|\n",
      "| P_Y | 0.2 | 0.55 | 0.25 |\n"
     ]
    }
   ],
   "source": [
    "# Tính phân phối lề của Y\n",
    "P_Y = pd.DataFrame( (df.loc[1] + df.loc[4]) , columns = ['P_Y']).T\n",
    "print(P_Y.to_markdown())"
   ]
  },
  {
   "cell_type": "code",
   "execution_count": 4,
   "id": "cea93f19",
   "metadata": {},
   "outputs": [
    {
     "name": "stdout",
     "output_type": "stream",
     "text": [
      "P(X = 4 | Y = 3) = 0.545455\n"
     ]
    }
   ],
   "source": [
    "# Tính P(X=4 | Y = 3)\n",
    "P_X4_Y3 = df[3].loc[4]/P_Y[3]\n",
    "print(\"P(X = 4 | Y = 3) = %f\"%P_X4_Y3)"
   ]
  },
  {
   "cell_type": "markdown",
   "id": "10846af4",
   "metadata": {},
   "source": [
    "**2) Tính $cov(X,Y)$ và hệ số tương quan giữa $X,Y$ bằng các thư viện thích hợp. Từ đó cho biết $X,Y$ có độc lập không? <br>**"
   ]
  },
  {
   "cell_type": "markdown",
   "id": "d9cb3f4f",
   "metadata": {},
   "source": [
    " > Công thức tính covarian là :$$cov(X,Y)=E(XY)-E(X).E(Y) = 0.45$$\n",
    " \n",
    " > $E(X) = \\sum_{x \\in X} xP(X=x) = 2.5$\n",
    " \n",
    " > $E(Y) = \\sum_{y \\in Y} yP(Y=y) = 3.1$\n",
    " \n",
    " > $ \\begin{matrix}\n",
    "E(XY) & = & \\sum_{i \\in X} \\sum_{j \\in Y} P_{X_iY_j} . x_i . y_j \\\\\n",
    "     & = & \n",
    "    \\begin{bmatrix}\n",
    "    x_1 &  x_2\n",
    "    \\end{bmatrix} \n",
    "    \\cdot\n",
    "    \\begin{bmatrix}\n",
    "    P(X=x_1, Y = y_1) & P(X=x_1, Y = y_2) & P(X=x_1, Y = y_3) \\\\ \n",
    "    P(X=x_2, Y = y_1) & P(X=x_2, Y = y_2)  & P(X=x_2, Y = y_3)\n",
    "    \\end{bmatrix}\n",
    "    \\cdot \n",
    "    \\begin{bmatrix}\n",
    "    y_1\\\\ \n",
    "    y_2\\\\ \n",
    "    y_3\n",
    "    \\end{bmatrix} \\\\\n",
    "    & = & 8.2\n",
    "    \\end{matrix} \n",
    "$\n",
    "\n",
    "> Hệ số tương quan: $$ r=\\dfrac{cov(X,Y)}{Std(X) . Std(Y)} = 0.224$$\n",
    "\n",
    "> Vì $r \\neq 0$ nên $X, Y$ không độc lập."
   ]
  },
  {
   "cell_type": "code",
   "execution_count": 5,
   "id": "01c43222",
   "metadata": {},
   "outputs": [
    {
     "name": "stdout",
     "output_type": "stream",
     "text": [
      "Kỳ vọng X: 2.50\n",
      "Kỳ vọng Y: 3.10\n"
     ]
    }
   ],
   "source": [
    "E_X = sum(P_X.loc['P_X']*P_X.columns)\n",
    "E_Y = sum(P_Y.loc['P_Y']*P_Y.columns)\n",
    "print(\"Kỳ vọng X: %.2f\"%E_X)\n",
    "print(\"Kỳ vọng Y: %.2f\"%E_Y)"
   ]
  },
  {
   "cell_type": "code",
   "execution_count": 6,
   "id": "f5cd13bc",
   "metadata": {},
   "outputs": [
    {
     "name": "stdout",
     "output_type": "stream",
     "text": [
      "Kì vọng XY: 8.20\n"
     ]
    }
   ],
   "source": [
    "import numpy as np\n",
    "X = np.array([1,4])\n",
    "P = np.array([list(df.loc[1]), list(df.loc[4])])\n",
    "Y = np.array([1,3,5])\n",
    "E_XY = X @ P @ Y.T\n",
    "print(\"Kì vọng XY: %.2f\"%E_XY)"
   ]
  },
  {
   "cell_type": "code",
   "execution_count": 7,
   "id": "4cb016a0",
   "metadata": {},
   "outputs": [
    {
     "name": "stdout",
     "output_type": "stream",
     "text": [
      "Hiệp phương sai: 0.45\n"
     ]
    }
   ],
   "source": [
    "cov  =  E_XY - E_X*E_Y\n",
    "print(\"Hiệp phương sai: %.2f\"%cov)"
   ]
  },
  {
   "cell_type": "code",
   "execution_count": 8,
   "id": "825fe200",
   "metadata": {},
   "outputs": [
    {
     "name": "stdout",
     "output_type": "stream",
     "text": [
      "Phương sai X: 2.250000\n",
      "Phương sai Y: 1.790000\n"
     ]
    }
   ],
   "source": [
    "E_X2 = sum(P_X.loc['P_X']*P_X.columns**2)\n",
    "E_Y2 = sum(P_Y.loc['P_Y']*P_Y.columns**2)\n",
    "Var_X = E_X2 - E_X**2\n",
    "Var_Y = E_Y2 - E_Y**2\n",
    "\n",
    "print(\"Phương sai X: %f\"%Var_X)\n",
    "print(\"Phương sai Y: %f\"%Var_Y)"
   ]
  },
  {
   "cell_type": "code",
   "execution_count": 9,
   "id": "c6d99786",
   "metadata": {},
   "outputs": [
    {
     "name": "stdout",
     "output_type": "stream",
     "text": [
      "Hệ số tương quan: 0.224231\n"
     ]
    }
   ],
   "source": [
    "r = cov/(Var_X*Var_Y)**0.5\n",
    "print(\"Hệ số tương quan: %f\"%r)"
   ]
  },
  {
   "cell_type": "markdown",
   "id": "1884bc1a",
   "metadata": {},
   "source": [
    "### Yêu cầu."
   ]
  },
  {
   "cell_type": "markdown",
   "id": "6c228c4d",
   "metadata": {},
   "source": [
    "**Bài 1.** Cho $X,Y$ là các đại lượng ngẫu nhiên có bảng phân bố xác suất như sau:\n",
    "1. Xác định phân phối lề theo $X$ và $Y$. <br>\n",
    "2. Chứng minh rằng $X,Y$ độc lập. <br>\n",
    "3. Tính xác suất $P(X+Y)=4$ và $P(X \\le 2, Y \\ge 1).$<br>\n",
    "4. Tính kỳ vọng có điều kiện $E(X|Y=2)$ và phương sai có điều kiện $Var(X|Y=2).$"
   ]
  },
  {
   "cell_type": "markdown",
   "id": "a15ec6d4",
   "metadata": {},
   "source": [
    "| X, Y | 1 | 2 | 3 |\n",
    "| --- | --- | --- | --- |\n",
    "| **1** | 0.3 | 0.2 | 0.1 |\n",
    "| **2** | 0.2 | 0.1 | 0 |\n",
    "| **3** | 0.1 | 0.0 | 0 |"
   ]
  },
  {
   "cell_type": "code",
   "execution_count": null,
   "id": "443febd1",
   "metadata": {},
   "outputs": [],
   "source": [
    "#CODE HERE"
   ]
  },
  {
   "cell_type": "markdown",
   "id": "df8b3afc",
   "metadata": {},
   "source": [
    "**Bài 2.** Cho $X,Y$ là các đại lượng ngẫu nhiên có bảng phân bố xác suất như sau:\n",
    "1. Chứng minh rằng $X,Y$ độc lập. <br>\n",
    "2. Tìm bảng phân bố xác suất của $T=X+Y.$ <br>\n",
    "3. Tìm bảng phân bố xác suất của $Z=XY$, từ đó chỉ ra rằng $E(Z) = E(X) \\cdot E(Y).$\n",
    "4. Tìm bảng phân phối xác suất của biến $Z=X^2Y + 5$, từ đó tính $E(Z)$ bằng hai cách."
   ]
  },
  {
   "cell_type": "markdown",
   "id": "69eddeeb",
   "metadata": {},
   "source": [
    "| X, Y | 1 | 2 | 3 |\n",
    "| --- | --- | --- | --- |\n",
    "| 1 | 0.12 | 0.15 | 0.03 |\n",
    "| 2 | 0.28 | 0.35 | 0.07 |"
   ]
  },
  {
   "cell_type": "code",
   "execution_count": null,
   "id": "a9bdce63",
   "metadata": {},
   "outputs": [],
   "source": [
    "#CODE HERE"
   ]
  },
  {
   "cell_type": "markdown",
   "id": "ae5d69d5",
   "metadata": {},
   "source": [
    "**Bài 3.** Cho $X,Y$ là các đại lượng ngẫu nhiên có bảng phân bố xác suất như sau: <br>\n",
    "1. Hãy tính $Var(X), Var(Y).$ <br>\n",
    "2. Kiểm tra xem $X,Y$ có độc lập không? <br>\n",
    "3. Tính $E(XY)$, $Cov(X,Y)$ và $\\rho(X,Y)$ bằng công thức."
   ]
  },
  {
   "cell_type": "markdown",
   "id": "69ceb97d",
   "metadata": {},
   "source": [
    "| X, Y | -1 | 1 | \n",
    "| --- | --- | --- | \n",
    "| -1 | 1/6 | 1/4 | \n",
    "| 0| 1/6 | 1/8 | \n",
    "| 1 | 1/6 | 1/8 | "
   ]
  },
  {
   "cell_type": "code",
   "execution_count": null,
   "id": "50bc5288",
   "metadata": {},
   "outputs": [],
   "source": [
    "#CODE HERE"
   ]
  },
  {
   "cell_type": "markdown",
   "id": "ebdd0231",
   "metadata": {},
   "source": [
    "**Bài 4.** Thực hiện tương tự với bảng phân bố xác suất sau đây:"
   ]
  },
  {
   "cell_type": "markdown",
   "id": "2a930567",
   "metadata": {},
   "source": [
    "| X, Y | -1 | 0 | 1|  \n",
    "| --- | --- | --- | --- |\n",
    "| -1 | 4/15 | 1/15 | 4/15 |\n",
    "| 0| 1/15 | 2/15 | 1/15 |\n",
    "| 1 | 0 | 2/15 | 0 | "
   ]
  },
  {
   "cell_type": "code",
   "execution_count": null,
   "id": "a366673d",
   "metadata": {},
   "outputs": [],
   "source": [
    "#CODE HERE"
   ]
  },
  {
   "cell_type": "markdown",
   "id": "bc93d9ce",
   "metadata": {},
   "source": [
    "**Bài tập về biến ngẫu nhiên liên tục.**"
   ]
  },
  {
   "cell_type": "markdown",
   "id": "46a8e491",
   "metadata": {},
   "source": [
    "Cho vector ngẫu nhiên liên tục $(X,Y)$ có hàm mật độ xác suất sau \n",
    "$$f_{X,Y}(x,y)=\\left\\{ \\begin{aligned}\n",
    "  & C \\cdot e^{-x-3y} \\text{  khi  } x, y \\ge 0 \\\\ \n",
    " & 0\\text{  khác} \\\\ \n",
    "\\end{aligned} \\right.$$\n",
    "- **a)** Xác định $C$.\n",
    "- **b)** Tìm hàm mật độ lề $f_X(x), f_Y(y).$ Từ đó kiểm tra tính độc lập của $X,Y.$\n",
    "- **c)** Tính xác suất $P(X < 2Y).$\n",
    "- **d)** Tính kỳ vọng có điều kiện $E(X|Y>1).$"
   ]
  },
  {
   "cell_type": "code",
   "execution_count": 1,
   "id": "fc2c0270",
   "metadata": {},
   "outputs": [],
   "source": [
    "from sympy import *\n",
    "import numpy as np\n",
    "import matplotlib.pyplot as plt\n",
    "from scipy.integrate import quad\n",
    "import sympy as sym"
   ]
  },
  {
   "cell_type": "markdown",
   "id": "eeb7543d",
   "metadata": {},
   "source": [
    "**a)** Xác định $C$."
   ]
  },
  {
   "cell_type": "code",
   "execution_count": 2,
   "id": "ec076764",
   "metadata": {},
   "outputs": [
    {
     "data": {
      "text/latex": [
       "$\\displaystyle \\frac{1}{3}$"
      ],
      "text/plain": [
       "1/3"
      ]
     },
     "execution_count": 2,
     "metadata": {},
     "output_type": "execute_result"
    }
   ],
   "source": [
    "from math import e\n",
    "import math\n",
    "x, y, c = symbols('x y c')\n",
    "f = E**(-x-3*y)\n",
    "tp = integrate(f, (x, 0, math.inf), (y, 0, math.inf))\n",
    "tp"
   ]
  },
  {
   "cell_type": "markdown",
   "id": "d61d7aa2",
   "metadata": {},
   "source": [
    "Từ đó suy ra $C=3.$"
   ]
  },
  {
   "cell_type": "markdown",
   "id": "394ddd0e",
   "metadata": {},
   "source": [
    "**b)** Tìm hàm mật độ lề $f_X(x), f_Y(y).$ Từ đó kiểm tra tính độc lập của $X,Y.$\n",
    "\n",
    "* Mật độ lề $𝑓_𝑋(𝑥)$"
   ]
  },
  {
   "cell_type": "code",
   "execution_count": 3,
   "id": "6998ac04",
   "metadata": {},
   "outputs": [
    {
     "data": {
      "text/latex": [
       "$\\displaystyle e^{- x}$"
      ],
      "text/plain": [
       "exp(-x)"
      ]
     },
     "execution_count": 3,
     "metadata": {},
     "output_type": "execute_result"
    }
   ],
   "source": [
    "# Xác suất lề theo biến x, tích phân theo dy, mà miền của y là từ 0 đến +∞\n",
    "f = 3*f\n",
    "f_x = integrate(f, (y,0,math.inf))\n",
    "f_x"
   ]
  },
  {
   "cell_type": "markdown",
   "id": "23fff10f",
   "metadata": {},
   "source": [
    "Vậy xác suất lề cần tìm là: $$f_X(x) = \\left\\{ \\begin{aligned}\n",
    "  & e^{-x} \\text{  khi  } x \\ge 0 \\\\ \n",
    " & 0 \\text{ otherwise} \\\\ \n",
    "\\end{aligned} \\right.$$"
   ]
  },
  {
   "cell_type": "markdown",
   "id": "6d46823b",
   "metadata": {},
   "source": [
    "* Mật độ lề $𝑓_Y(y)$"
   ]
  },
  {
   "cell_type": "code",
   "execution_count": 4,
   "id": "62ed6f2b",
   "metadata": {},
   "outputs": [
    {
     "data": {
      "text/latex": [
       "$\\displaystyle 3 e^{- 3 y}$"
      ],
      "text/plain": [
       "3*exp(-3*y)"
      ]
     },
     "execution_count": 4,
     "metadata": {},
     "output_type": "execute_result"
    }
   ],
   "source": [
    "# Xác suất lề theo biến y, tích phân theo dx, mà miền của x là từ 0 đến +∞\n",
    "f_y = integrate(f, (x, 0 , math.inf))\n",
    "f_y"
   ]
  },
  {
   "cell_type": "markdown",
   "id": "362f67c1",
   "metadata": {},
   "source": [
    "Vậy xác suất lề cần tìm là: $$f_Y(y) = \\left\\{ \\begin{aligned}\n",
    "  & 3e^{-3y} \\text{  khi  } y \\ge 0 \\\\ \n",
    " & 0 \\text{ otherwise} \\\\ \n",
    "\\end{aligned} \\right.$$"
   ]
  },
  {
   "cell_type": "markdown",
   "id": "8f28b5c0",
   "metadata": {},
   "source": [
    "* Kiểm tra độc lập"
   ]
  },
  {
   "cell_type": "code",
   "execution_count": 5,
   "id": "af070661",
   "metadata": {},
   "outputs": [
    {
     "data": {
      "text/latex": [
       "$\\displaystyle 3 e^{- x} e^{- 3 y}$"
      ],
      "text/plain": [
       "3*exp(-x)*exp(-3*y)"
      ]
     },
     "execution_count": 5,
     "metadata": {},
     "output_type": "execute_result"
    }
   ],
   "source": [
    "f_x*f_y"
   ]
  },
  {
   "cell_type": "markdown",
   "id": "b104c4c2",
   "metadata": {},
   "source": [
    "> Ta thấy tích $f_X(x) \\cdot f_Y(y) = 3e^{-x}e^{-3y} = 3e^{-x-3y} = f(x,y)$ nên hai biến ngẫu nhiên này **độc lập**."
   ]
  },
  {
   "cell_type": "markdown",
   "id": "cb87e708",
   "metadata": {},
   "source": [
    "**c)** Tính xác suất $P(X < 2Y).$"
   ]
  },
  {
   "cell_type": "code",
   "execution_count": 6,
   "id": "9b535a4d",
   "metadata": {},
   "outputs": [
    {
     "name": "stdout",
     "output_type": "stream",
     "text": [
      "P(X<2Y) = 0.400\n"
     ]
    }
   ],
   "source": [
    "tp1 = integrate(f, (y, 0.5*x, math.inf), (x, 0, math.inf))\n",
    "print('P(X<2Y) = %.3f'%tp1)"
   ]
  },
  {
   "cell_type": "markdown",
   "id": "16b75a6e",
   "metadata": {},
   "source": [
    "**d)** Tính kỳ vọng có điều kiện $E(X|Y>1).$"
   ]
  },
  {
   "cell_type": "code",
   "execution_count": 8,
   "id": "86ca70b4",
   "metadata": {},
   "outputs": [
    {
     "name": "stdout",
     "output_type": "stream",
     "text": [
      "E(X|Y>1) = 1.000\n"
     ]
    }
   ],
   "source": [
    "# E[X|Y > 1], ta đã có X, Y độc lập nên kỳ vọng này cũng chính là E[X]\n",
    "e1 = integrate(x*f_x, (x, 0, math.inf)) \n",
    "print('E(X|Y>1) = %.3f'%(e1))\n",
    "# trong trường hợp hai biến không độc lập, ta tính cẩn thận lại theo công thức"
   ]
  }
 ],
 "metadata": {
  "kernelspec": {
   "display_name": "Python 3",
   "language": "python",
   "name": "python3"
  },
  "language_info": {
   "codemirror_mode": {
    "name": "ipython",
    "version": 3
   },
   "file_extension": ".py",
   "mimetype": "text/x-python",
   "name": "python",
   "nbconvert_exporter": "python",
   "pygments_lexer": "ipython3",
   "version": "3.8.8"
  }
 },
 "nbformat": 4,
 "nbformat_minor": 5
}
