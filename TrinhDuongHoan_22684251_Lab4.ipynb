{
 "cells": [
  {
   "cell_type": "markdown",
   "id": "9ae044c1",
   "metadata": {},
   "source": [
    "## XÁC SUẤT TRONG KHOA HỌC DỮ LIỆU IUH 2024\n",
    "\n",
    "### Lab 4. Các thư viện Xác suất trong Python (ngày 26/02)"
   ]
  },
  {
   "cell_type": "markdown",
   "id": "4e105e1e",
   "metadata": {},
   "source": [
    "### CÁC THƯ VIỆN CHO PHÂN PHỐI"
   ]
  },
  {
   "cell_type": "markdown",
   "id": "ea72d979",
   "metadata": {},
   "source": [
    "> Trong bài này, ta sẽ ôn tập lại các phân phối rời rạc gồm: nhị thức, Poisson, hình học và có liên quan đến các đại lượng: kỳ vọng, phương sai, độ lệch chuẩn."
   ]
  },
  {
   "cell_type": "markdown",
   "id": "4c8c50e8",
   "metadata": {},
   "source": [
    "**1)** Cho các đoạn code của thư viện spipy dùng cho các phân phối nhị thức như bên dưới. Hãy chạy từng dòng code và ghi chú lại ý nghĩa của từng hàm."
   ]
  },
  {
   "cell_type": "code",
   "execution_count": 2,
   "id": "f415fc86",
   "metadata": {},
   "outputs": [
    {
     "data": {
      "text/plain": [
       "array([0, 2, 2, 0, 0, 2, 4, 0, 3, 2, 3, 1, 1, 3, 2, 1, 2, 1, 2, 2],\n",
       "      dtype=int64)"
      ]
     },
     "execution_count": 2,
     "metadata": {},
     "output_type": "execute_result"
    }
   ],
   "source": [
    "from scipy import stats\n",
    "X = stats.binom(10, 0.2) # Khai báo X là một phân phối nhị thức có n=10 và p=0.2\n",
    "#Hãy chạy từng đoạn code bên dưới và cho biết ý nghĩa từng hàm\n",
    "X.pmf(3)           # P(X = 3)\n",
    "X.cdf(4)           # P(X <= 4)\n",
    "X.mean()           # E[X] = np.\n",
    "X.var()            # Var(X) = np(1-p)\n",
    "X.std()            # Std(X) \n",
    "X.var(), X.std()\n",
    "X.rvs()            # Get 1 random sample from X\n",
    "X.rvs(20)          # Get 10 random samples form X"
   ]
  },
  {
   "cell_type": "markdown",
   "id": "a4f05f07",
   "metadata": {},
   "source": [
    "**2)** Hãy chạy các lệnh tương ứng ở trên cho phân phối Poisson. Chú ý cách gọi thư viện: stats.poisson(?) với ? là tham số $\\lambda$."
   ]
  },
  {
   "cell_type": "code",
   "execution_count": 3,
   "id": "11ae03df",
   "metadata": {},
   "outputs": [
    {
     "data": {
      "text/plain": [
       "(0.0915781944436709, 1.0)"
      ]
     },
     "execution_count": 3,
     "metadata": {},
     "output_type": "execute_result"
    }
   ],
   "source": [
    "X = stats.poisson(4) # Khai báo X ứng với tham số lamda = 4\n",
    "X.cdf(1), X.ppf(0.0915781944436709)\n",
    "#ppf là hàm ngược"
   ]
  },
  {
   "cell_type": "markdown",
   "id": "0d51f2eb",
   "metadata": {},
   "source": [
    "**3)** Hãy chạy các lệnh tương ứng ở trên cho phân phối Hình học. Chú ý cách gọi thư viện: stats.geom(?) với ? là tham số $p$."
   ]
  },
  {
   "cell_type": "code",
   "execution_count": 4,
   "id": "0499bee4",
   "metadata": {},
   "outputs": [
    {
     "data": {
      "text/plain": [
       "0.9939533824"
      ]
     },
     "execution_count": 4,
     "metadata": {},
     "output_type": "execute_result"
    }
   ],
   "source": [
    "X = stats.geom(0.4) # Khai báo X là phân phối hình học ứng với tham số p = 0.4\n",
    "X.pmf(1)            \n",
    "X.cdf(10) "
   ]
  },
  {
   "cell_type": "markdown",
   "id": "10ab2e3f",
   "metadata": {},
   "source": [
    "**4)** Sinh ngẫu nhiên một mảng có 100 phần tử lấy giá trị nguyên trong khoảng $[-10;10]$. Sử dụng thư viện statistics để tính toán các tham số: mean, median, mode, variance, standard deviation."
   ]
  },
  {
   "cell_type": "code",
   "execution_count": 5,
   "id": "3f293e0f",
   "metadata": {},
   "outputs": [
    {
     "name": "stdout",
     "output_type": "stream",
     "text": [
      "[-10, -10, -10, -9, -9, -9, -9, -9, -9, -8, -8, -7, -6, -6, -6, -6, -6, -6, -6, -5, -5, -4, -4, -4, -4, -4, -4, -4, -4, -3, -3, -3, -3, -3, -3, -3, -2, -2, -2, -2, -2, -1, -1, -1, -1, 0, 0, 0, 0, 0, 0, 0, 0, 1, 1, 1, 1, 2, 2, 2, 2, 2, 3, 3, 3, 3, 3, 4, 4, 4, 4, 4, 4, 4, 5, 5, 5, 5, 5, 5, 5, 5, 5, 6, 6, 6, 6, 8, 8, 8, 8, 8, 9, 9, 9, 9, 10, 10, 10, 10]\n"
     ]
    },
    {
     "data": {
      "text/plain": [
       "5"
      ]
     },
     "execution_count": 5,
     "metadata": {},
     "output_type": "execute_result"
    }
   ],
   "source": [
    "import random\n",
    "import statistics as st\n",
    "a = []\n",
    "for i in range(0,100):\n",
    "    x = random.randint(-10,10)\n",
    "    a.append(x)\n",
    "a.sort()\n",
    "print(a)\n",
    "st.mode(a)"
   ]
  },
  {
   "cell_type": "markdown",
   "id": "5d301249",
   "metadata": {},
   "source": [
    "**5)** Tìm hiểu về cách vẽ đồ thị, lược đồ đơn giản trong Python thông qua các link sau:\n",
    "    \n",
    "    https://www.datacamp.com/cheat-sheet/matplotlib-cheat-sheet-plotting-in-python\n",
    "    \n",
    "    https://pythonspot.com/matplotlib-bar-chart/\n",
    "  \n",
    "từ đó thử giải thích ý nghĩa của biểu đồ bên dưới:"
   ]
  },
  {
   "cell_type": "code",
   "execution_count": 6,
   "id": "c855a068",
   "metadata": {},
   "outputs": [
    {
     "data": {
      "image/png": "[encoded data removed]",
      "text/plain": [
       "<Figure size 640x480 with 1 Axes>"
      ]
     },
     "metadata": {},
     "output_type": "display_data"
    }
   ],
   "source": [
    "from scipy.stats import binom\n",
    "import numpy as np\n",
    "import matplotlib.pyplot as plt\n",
    "n, p = 50, 0.25\n",
    "fig, ax = plt.subplots(1, 1)\n",
    "x = np.arange(binom.ppf(0.01, n, p), binom.ppf(0.99, n, p)) # thử thay đổi các tham số 0.01 và 0.99 này\n",
    "# Dưới đây là 3 cách vẽ biểu đồ:\n",
    "ax.plot(x, binom.pmf(x, n, p), 'bo')\n",
    "ax.plot(x, binom.pmf(x, n, p))\n",
    "ax.vlines(x, 0, binom.pmf(x, n, p), colors='orange')\n",
    "plt.show()"
   ]
  },
  {
   "cell_type": "code",
   "execution_count": 7,
   "id": "4c913fe5",
   "metadata": {},
   "outputs": [
    {
     "data": {
      "image/png": "[encoded data removed]",
      "text/plain": [
       "<Figure size 640x480 with 1 Axes>"
      ]
     },
     "metadata": {},
     "output_type": "display_data"
    }
   ],
   "source": [
    "from scipy.stats import poisson\n",
    "import numpy as np\n",
    "import matplotlib.pyplot as plt\n",
    "l = 2\n",
    "fig, ax = plt.subplots(1, 1)\n",
    "x = np.arange(poisson.ppf(0.001, l), poisson.ppf(0.99, l)) # thử thay đổi các tham số 0.01 và 0.99 này\n",
    "# Dưới đây là 3 cách vẽ biểu đồ:\n",
    "ax.plot(x, poisson.pmf(x, l), 'bo')\n",
    "ax.plot(x, poisson.pmf(x, l))\n",
    "ax.vlines(x, 0, poisson.pmf(x, l), colors='orange')\n",
    "plt.show()"
   ]
  },
  {
   "cell_type": "markdown",
   "id": "abafd68d",
   "metadata": {},
   "source": [
    "### CÁC VÍ DỤ"
   ]
  },
  {
   "cell_type": "markdown",
   "id": "62a257c6",
   "metadata": {},
   "source": [
    "**Bài 1.** Ở một tổng đài xe khách, cứ trung bình 1 phút sẽ có $2$ cuộc gọi đến đặt chỗ, các cú điện thoại xuất hiện ngẫu nhiên, độc lập với nhau theo phân phối Poisson. Bằng cách dùng các thư viện của Python, hãy tính xác suất để có $5$ cuộc gọi trong $2$ phút, xác suất để không có cuộc gọi nào trong $30$ giây? Xác suất để có ít nhất một cuộc gọi trong $90$ giây?"
   ]
  },
  {
   "cell_type": "code",
   "execution_count": 8,
   "id": "86effc1c",
   "metadata": {},
   "outputs": [
    {
     "data": {
      "text/plain": [
       "0.1562934518505317"
      ]
     },
     "execution_count": 8,
     "metadata": {},
     "output_type": "execute_result"
    }
   ],
   "source": [
    "#5 cuộc gọi trong 2 phút => lamda = 2.2 = 4\n",
    "X = stats.poisson(4)\n",
    "X.pmf(5)"
   ]
  },
  {
   "cell_type": "code",
   "execution_count": 9,
   "id": "3d0cdad2",
   "metadata": {},
   "outputs": [
    {
     "data": {
      "text/plain": [
       "0.36787944117144233"
      ]
     },
     "execution_count": 9,
     "metadata": {},
     "output_type": "execute_result"
    }
   ],
   "source": [
    "#0 cuộc gọi trong 30s => lamda = 2/2 = 1\n",
    "X = stats.poisson(1)\n",
    "X.pmf(0)"
   ]
  },
  {
   "cell_type": "code",
   "execution_count": 10,
   "id": "394c31f4",
   "metadata": {},
   "outputs": [
    {
     "data": {
      "text/plain": [
       "0.18444441852558047"
      ]
     },
     "execution_count": 10,
     "metadata": {},
     "output_type": "execute_result"
    }
   ],
   "source": [
    "# >= 1 cuộc gọi trong 90s => lamda = 3\n",
    "X = stats.poisson(3)\n",
    "1 - X.pmf(0)\n",
    "# trong 90s có số cuộc gọi là từ 5 đến 10\n",
    "X.cdf(10) - X.cdf(4)"
   ]
  },
  {
   "cell_type": "markdown",
   "id": "e0a383f3",
   "metadata": {},
   "source": [
    "**Bài 2.** Tỷ lệ cử tri ủng hộ cho ứng cử viên $A$ trong một cuộc bầu cử tổng thống là $65\\%$. Người ta hỏi ý kiến của $20$ cử tri được chọn một cách ngẫu nhiên và gọi $X$ là số người bỏ phiếu cho $A$ trong số $20$ người đó. Hãy xác định loại phân bố xác suất của $X$. Từ đó bằng cách dùng các thư viện của Python, hãy tính $P(X \\le 4)$, $P(11 \\le X \\le 15)$ và tính kỳ vọng, phương sai của $X.$ Vẽ biểu đồ cho phân phối này."
   ]
  },
  {
   "cell_type": "code",
   "execution_count": 11,
   "id": "8449220c",
   "metadata": {},
   "outputs": [
    {
     "data": {
      "text/plain": [
       "(4.994088707168194e-05, 0.7600228541838919, 13.0, 4.55)"
      ]
     },
     "execution_count": 11,
     "metadata": {},
     "output_type": "execute_result"
    }
   ],
   "source": [
    "X = stats.binom(20, 0.65)\n",
    "X.cdf(4), X.cdf(15)-X.cdf(10), X.mean(), X.var()\n",
    "#Khi làm bài, SV nên in ra từng dòng cho mỗi câu hỏi cho rõ ràng\n",
    "#Biểu đồ SV tự vẽ tương tự trên."
   ]
  },
  {
   "cell_type": "markdown",
   "id": "0ccefeee",
   "metadata": {},
   "source": [
    "**Bài 3.** Một người bắn đạn vào bia cho đến khi nào trúng thì dừng. Giả sử các lần bắn là độc lập nhau với cùng xác suất là $0.05.$ Tính xác suất để người này bắn không quá $10$ lần. Hãy vẽ biểu đồ thích hợp mô tả cho phân phối này."
   ]
  },
  {
   "cell_type": "code",
   "execution_count": 12,
   "id": "ba04c992",
   "metadata": {},
   "outputs": [
    {
     "data": {
      "text/plain": [
       "0.4012630607616211"
      ]
     },
     "execution_count": 12,
     "metadata": {},
     "output_type": "execute_result"
    }
   ],
   "source": [
    "X = stats.geom(0.05)\n",
    "X.cdf(10)\n",
    "#Biểu đồ SV tự vẽ tương tự trên."
   ]
  },
  {
   "cell_type": "markdown",
   "id": "f95a807a",
   "metadata": {},
   "source": [
    "**Bài 4.** Cho bảng phân phối xác suất của biến ngẫu nhiên $X$ như sau. Hãy tính kỳ vọng, phương sai, độ lệch chuẩn, mốt, trung vị của $X$."
   ]
  },
  {
   "cell_type": "code",
   "execution_count": 13,
   "id": "bdc109d4",
   "metadata": {},
   "outputs": [
    {
     "ename": "ImportError",
     "evalue": "Missing optional dependency 'Jinja2'. DataFrame.style requires jinja2. Use pip or conda to install Jinja2.",
     "output_type": "error",
     "traceback": [
      "\u001b[1;31m---------------------------------------------------------------------------\u001b[0m",
      "\u001b[1;31mModuleNotFoundError\u001b[0m                       Traceback (most recent call last)",
      "File \u001b[1;32mc:\\Users\\ADMIN\\AppData\\Local\\Programs\\Python\\Python312\\Lib\\site-packages\\pandas\\compat\\_optional.py:132\u001b[0m, in \u001b[0;36mimport_optional_dependency\u001b[1;34m(name, extra, errors, min_version)\u001b[0m\n\u001b[0;32m    131\u001b[0m \u001b[38;5;28;01mtry\u001b[39;00m:\n\u001b[1;32m--> 132\u001b[0m     module \u001b[38;5;241m=\u001b[39m \u001b[43mimportlib\u001b[49m\u001b[38;5;241;43m.\u001b[39;49m\u001b[43mimport_module\u001b[49m\u001b[43m(\u001b[49m\u001b[43mname\u001b[49m\u001b[43m)\u001b[49m\n\u001b[0;32m    133\u001b[0m \u001b[38;5;28;01mexcept\u001b[39;00m \u001b[38;5;167;01mImportError\u001b[39;00m:\n",
      "File \u001b[1;32mc:\\Users\\ADMIN\\AppData\\Local\\Programs\\Python\\Python312\\Lib\\importlib\\__init__.py:90\u001b[0m, in \u001b[0;36mimport_module\u001b[1;34m(name, package)\u001b[0m\n\u001b[0;32m     89\u001b[0m         level \u001b[38;5;241m+\u001b[39m\u001b[38;5;241m=\u001b[39m \u001b[38;5;241m1\u001b[39m\n\u001b[1;32m---> 90\u001b[0m \u001b[38;5;28;01mreturn\u001b[39;00m \u001b[43m_bootstrap\u001b[49m\u001b[38;5;241;43m.\u001b[39;49m\u001b[43m_gcd_import\u001b[49m\u001b[43m(\u001b[49m\u001b[43mname\u001b[49m\u001b[43m[\u001b[49m\u001b[43mlevel\u001b[49m\u001b[43m:\u001b[49m\u001b[43m]\u001b[49m\u001b[43m,\u001b[49m\u001b[43m \u001b[49m\u001b[43mpackage\u001b[49m\u001b[43m,\u001b[49m\u001b[43m \u001b[49m\u001b[43mlevel\u001b[49m\u001b[43m)\u001b[49m\n",
      "File \u001b[1;32m<frozen importlib._bootstrap>:1387\u001b[0m, in \u001b[0;36m_gcd_import\u001b[1;34m(name, package, level)\u001b[0m\n",
      "File \u001b[1;32m<frozen importlib._bootstrap>:1360\u001b[0m, in \u001b[0;36m_find_and_load\u001b[1;34m(name, import_)\u001b[0m\n",
      "File \u001b[1;32m<frozen importlib._bootstrap>:1324\u001b[0m, in \u001b[0;36m_find_and_load_unlocked\u001b[1;34m(name, import_)\u001b[0m\n",
      "\u001b[1;31mModuleNotFoundError\u001b[0m: No module named 'jinja2'",
      "\nDuring handling of the above exception, another exception occurred:\n",
      "\u001b[1;31mImportError\u001b[0m                               Traceback (most recent call last)",
      "Cell \u001b[1;32mIn[13], line 4\u001b[0m\n\u001b[0;32m      1\u001b[0m \u001b[38;5;28;01mimport\u001b[39;00m \u001b[38;5;21;01mpandas\u001b[39;00m \u001b[38;5;28;01mas\u001b[39;00m \u001b[38;5;21;01mpd\u001b[39;00m\n\u001b[0;32m      2\u001b[0m df \u001b[38;5;241m=\u001b[39m pd\u001b[38;5;241m.\u001b[39mDataFrame({\u001b[38;5;124m'\u001b[39m\u001b[38;5;124mX\u001b[39m\u001b[38;5;124m'\u001b[39m: \u001b[38;5;124m'\u001b[39m\u001b[38;5;124mP(X=x)\u001b[39m\u001b[38;5;124m'\u001b[39m, \u001b[38;5;241m1\u001b[39m:[\u001b[38;5;124m'\u001b[39m\u001b[38;5;124m3/30\u001b[39m\u001b[38;5;124m'\u001b[39m], \u001b[38;5;241m4\u001b[39m: [\u001b[38;5;124m'\u001b[39m\u001b[38;5;124m7/30\u001b[39m\u001b[38;5;124m'\u001b[39m], \u001b[38;5;241m5\u001b[39m: [\u001b[38;5;124m'\u001b[39m\u001b[38;5;124m2/30\u001b[39m\u001b[38;5;124m'\u001b[39m], \u001b[38;5;241m8\u001b[39m: [\u001b[38;5;124m'\u001b[39m\u001b[38;5;124m5/30\u001b[39m\u001b[38;5;124m'\u001b[39m], \u001b[38;5;241m10\u001b[39m: [\u001b[38;5;124m'\u001b[39m\u001b[38;5;124m3/30\u001b[39m\u001b[38;5;124m'\u001b[39m],\n\u001b[0;32m      3\u001b[0m                    \u001b[38;5;241m15\u001b[39m: [\u001b[38;5;124m'\u001b[39m\u001b[38;5;124m1/30\u001b[39m\u001b[38;5;124m'\u001b[39m], \u001b[38;5;241m22\u001b[39m: [\u001b[38;5;124m'\u001b[39m\u001b[38;5;124m5/30\u001b[39m\u001b[38;5;124m'\u001b[39m], \u001b[38;5;241m25\u001b[39m: [\u001b[38;5;124m'\u001b[39m\u001b[38;5;124m4/30\u001b[39m\u001b[38;5;124m'\u001b[39m]})\n\u001b[1;32m----> 4\u001b[0m df \u001b[38;5;241m=\u001b[39m \u001b[43mdf\u001b[49m\u001b[38;5;241;43m.\u001b[39;49m\u001b[43mstyle\u001b[49m\u001b[38;5;241m.\u001b[39mset_table_styles([\u001b[38;5;28mdict\u001b[39m(selector\u001b[38;5;241m=\u001b[39m\u001b[38;5;124m'\u001b[39m\u001b[38;5;124mth\u001b[39m\u001b[38;5;124m'\u001b[39m, props\u001b[38;5;241m=\u001b[39m[(\u001b[38;5;124m'\u001b[39m\u001b[38;5;124mtext-align\u001b[39m\u001b[38;5;124m'\u001b[39m, \u001b[38;5;124m'\u001b[39m\u001b[38;5;124mcenter\u001b[39m\u001b[38;5;124m'\u001b[39m)])])\u001b[38;5;241m.\u001b[39mhide_index()\n\u001b[0;32m      5\u001b[0m df\n",
      "File \u001b[1;32mc:\\Users\\ADMIN\\AppData\\Local\\Programs\\Python\\Python312\\Lib\\site-packages\\pandas\\core\\frame.py:1338\u001b[0m, in \u001b[0;36mDataFrame.style\u001b[1;34m(self)\u001b[0m\n\u001b[0;32m   1318\u001b[0m \u001b[38;5;129m@property\u001b[39m\n\u001b[0;32m   1319\u001b[0m \u001b[38;5;28;01mdef\u001b[39;00m \u001b[38;5;21mstyle\u001b[39m(\u001b[38;5;28mself\u001b[39m) \u001b[38;5;241m-\u001b[39m\u001b[38;5;241m>\u001b[39m Styler:\n\u001b[0;32m   1320\u001b[0m \u001b[38;5;250m    \u001b[39m\u001b[38;5;124;03m\"\"\"\u001b[39;00m\n\u001b[0;32m   1321\u001b[0m \u001b[38;5;124;03m    Returns a Styler object.\u001b[39;00m\n\u001b[0;32m   1322\u001b[0m \n\u001b[1;32m   (...)\u001b[0m\n\u001b[0;32m   1336\u001b[0m \u001b[38;5;124;03m    `Table Visualization <../../user_guide/style.ipynb>`_ for more examples.\u001b[39;00m\n\u001b[0;32m   1337\u001b[0m \u001b[38;5;124;03m    \"\"\"\u001b[39;00m\n\u001b[1;32m-> 1338\u001b[0m     \u001b[38;5;28;01mfrom\u001b[39;00m \u001b[38;5;21;01mpandas\u001b[39;00m\u001b[38;5;21;01m.\u001b[39;00m\u001b[38;5;21;01mio\u001b[39;00m\u001b[38;5;21;01m.\u001b[39;00m\u001b[38;5;21;01mformats\u001b[39;00m\u001b[38;5;21;01m.\u001b[39;00m\u001b[38;5;21;01mstyle\u001b[39;00m \u001b[38;5;28;01mimport\u001b[39;00m Styler\n\u001b[0;32m   1340\u001b[0m     \u001b[38;5;28;01mreturn\u001b[39;00m Styler(\u001b[38;5;28mself\u001b[39m)\n",
      "File \u001b[1;32mc:\\Users\\ADMIN\\AppData\\Local\\Programs\\Python\\Python312\\Lib\\site-packages\\pandas\\io\\formats\\style.py:44\u001b[0m\n\u001b[0;32m     40\u001b[0m \u001b[38;5;28;01mfrom\u001b[39;00m \u001b[38;5;21;01mpandas\u001b[39;00m\u001b[38;5;21;01m.\u001b[39;00m\u001b[38;5;21;01mcore\u001b[39;00m\u001b[38;5;21;01m.\u001b[39;00m\u001b[38;5;21;01mshared_docs\u001b[39;00m \u001b[38;5;28;01mimport\u001b[39;00m _shared_docs\n\u001b[0;32m     42\u001b[0m \u001b[38;5;28;01mfrom\u001b[39;00m \u001b[38;5;21;01mpandas\u001b[39;00m\u001b[38;5;21;01m.\u001b[39;00m\u001b[38;5;21;01mio\u001b[39;00m\u001b[38;5;21;01m.\u001b[39;00m\u001b[38;5;21;01mformats\u001b[39;00m\u001b[38;5;21;01m.\u001b[39;00m\u001b[38;5;21;01mformat\u001b[39;00m \u001b[38;5;28;01mimport\u001b[39;00m save_to_buffer\n\u001b[1;32m---> 44\u001b[0m jinja2 \u001b[38;5;241m=\u001b[39m \u001b[43mimport_optional_dependency\u001b[49m\u001b[43m(\u001b[49m\u001b[38;5;124;43m\"\u001b[39;49m\u001b[38;5;124;43mjinja2\u001b[39;49m\u001b[38;5;124;43m\"\u001b[39;49m\u001b[43m,\u001b[49m\u001b[43m \u001b[49m\u001b[43mextra\u001b[49m\u001b[38;5;241;43m=\u001b[39;49m\u001b[38;5;124;43m\"\u001b[39;49m\u001b[38;5;124;43mDataFrame.style requires jinja2.\u001b[39;49m\u001b[38;5;124;43m\"\u001b[39;49m\u001b[43m)\u001b[49m\n\u001b[0;32m     46\u001b[0m \u001b[38;5;28;01mfrom\u001b[39;00m \u001b[38;5;21;01mpandas\u001b[39;00m\u001b[38;5;21;01m.\u001b[39;00m\u001b[38;5;21;01mio\u001b[39;00m\u001b[38;5;21;01m.\u001b[39;00m\u001b[38;5;21;01mformats\u001b[39;00m\u001b[38;5;21;01m.\u001b[39;00m\u001b[38;5;21;01mstyle_render\u001b[39;00m \u001b[38;5;28;01mimport\u001b[39;00m (\n\u001b[0;32m     47\u001b[0m     CSSProperties,\n\u001b[0;32m     48\u001b[0m     CSSStyles,\n\u001b[1;32m   (...)\u001b[0m\n\u001b[0;32m     56\u001b[0m     refactor_levels,\n\u001b[0;32m     57\u001b[0m )\n\u001b[0;32m     59\u001b[0m \u001b[38;5;28;01mif\u001b[39;00m TYPE_CHECKING:\n",
      "File \u001b[1;32mc:\\Users\\ADMIN\\AppData\\Local\\Programs\\Python\\Python312\\Lib\\site-packages\\pandas\\compat\\_optional.py:135\u001b[0m, in \u001b[0;36mimport_optional_dependency\u001b[1;34m(name, extra, errors, min_version)\u001b[0m\n\u001b[0;32m    133\u001b[0m \u001b[38;5;28;01mexcept\u001b[39;00m \u001b[38;5;167;01mImportError\u001b[39;00m:\n\u001b[0;32m    134\u001b[0m     \u001b[38;5;28;01mif\u001b[39;00m errors \u001b[38;5;241m==\u001b[39m \u001b[38;5;124m\"\u001b[39m\u001b[38;5;124mraise\u001b[39m\u001b[38;5;124m\"\u001b[39m:\n\u001b[1;32m--> 135\u001b[0m         \u001b[38;5;28;01mraise\u001b[39;00m \u001b[38;5;167;01mImportError\u001b[39;00m(msg)\n\u001b[0;32m    136\u001b[0m     \u001b[38;5;28;01mreturn\u001b[39;00m \u001b[38;5;28;01mNone\u001b[39;00m\n\u001b[0;32m    138\u001b[0m \u001b[38;5;66;03m# Handle submodules: if we have submodule, grab parent module from sys.modules\u001b[39;00m\n",
      "\u001b[1;31mImportError\u001b[0m: Missing optional dependency 'Jinja2'. DataFrame.style requires jinja2. Use pip or conda to install Jinja2."
     ]
    }
   ],
   "source": [
    "import pandas as pd\n",
    "df = pd.DataFrame({'X': 'P(X=x)', 1:['3/30'], 4: ['7/30'], 5: ['2/30'], 8: ['5/30'], 10: ['3/30'],\n",
    "                   15: ['1/30'], 22: ['5/30'], 25: ['4/30']})\n",
    "df = df.style.set_table_styles([dict(selector='th', props=[('text-align', 'center')])]).hide_index()\n",
    "df"
   ]
  },
  {
   "cell_type": "code",
   "execution_count": null,
   "id": "95ee5087",
   "metadata": {},
   "outputs": [],
   "source": [
    "#Cách giải tham khảo\n",
    "import numpy as np\n",
    "X = [1,4,5,8,10,15,22,25]\n",
    "P = [3/30, 7/30, 2/30, 5/30, 3/30, 1/30, 5/30, 4/30]"
   ]
  },
  {
   "cell_type": "code",
   "execution_count": null,
   "id": "b93277fe",
   "metadata": {},
   "outputs": [],
   "source": [
    "#Kỳ vọng\n",
    "E = np.dot(X, P)\n",
    "#Phương sai\n",
    "V = np.dot(np.square(X), P) - E**2\n",
    "#Độ lệch chuẩn\n",
    "S = np.sqrt(V)\n",
    "E, V, S"
   ]
  },
  {
   "cell_type": "markdown",
   "id": "cdf93860",
   "metadata": {},
   "source": [
    "### BÀI TẬP"
   ]
  },
  {
   "cell_type": "markdown",
   "id": "f38b5cd8",
   "metadata": {},
   "source": [
    "**Bài 1.** Hai người $A,B$ cùng chơi cờ. Trong mỗi ván, xác suất thắng của người $A$ là $0,7$, xác suất của người $B$ là $0,2$ và xác suất của hai người hòa là $0,1$. Giả sử rằng kết quả của ván cờ là độc lập với nhau.\n",
    "- a) Giả sử  $A$ và $B$ đã chơi $8$ ván cờ, tính xác suất để $A$ thắng một nửa số ván cờ đã chơi.\n",
    "- b) Giả sử $A$ và $B$ đã chơi $8$ ván cờ, tính số ván trung bình mà có kết thắng thua.\n",
    "- c) $A$ và $B$ đã chơi $3$ ván cờ, tính xác suất $A$ hòa ít nhất một ván."
   ]
  },
  {
   "cell_type": "markdown",
   "id": "baa25ee1",
   "metadata": {},
   "source": [
    "$\\text {Bài làm} $"
   ]
  },
  {
   "cell_type": "markdown",
   "id": "74bd7920",
   "metadata": {},
   "source": [
    "- a)\n",
    "Gọi $P_{(A = 4)}$ là xác suất để A thắng một nửa số ván chơi , ta có :  \\\n",
    "$P_{(A = 4)} = 0.7^4 * 0.3^4 * C_8^4 = 0.136$"
   ]
  },
  {
   "cell_type": "code",
   "execution_count": null,
   "id": "0e6021fd",
   "metadata": {},
   "outputs": [
    {
     "data": {
      "text/plain": [
       "0.13613670000000017"
      ]
     },
     "execution_count": 22,
     "metadata": {},
     "output_type": "execute_result"
    }
   ],
   "source": [
    "from scipy.stats import binom\n",
    "\n",
    "A_win = binom(8,0.7)\n",
    "\n",
    "P_A_win = A_win.pmf(4)\n",
    "P_A_win"
   ]
  },
  {
   "cell_type": "markdown",
   "id": "2b0679aa",
   "metadata": {},
   "source": [
    "- b)\n",
    "Gọi P_not_draw là xác suất để một ván đấu không có kết quả hòa, ta có : \\\n",
    "P_not_draw = 1-0.1 = 0.9\\\n",
    "Gọi E_x là số ván trung bình có kết quả thắng thua, ta có : \\\n",
    "E_x = P_not_draw * n = 0.9 * 8 = 7.2 với n là số ván chơi\n"
   ]
  },
  {
   "cell_type": "code",
   "execution_count": null,
   "id": "2b7c62f4",
   "metadata": {},
   "outputs": [
    {
     "data": {
      "text/plain": [
       "7.2"
      ]
     },
     "execution_count": 23,
     "metadata": {},
     "output_type": "execute_result"
    }
   ],
   "source": [
    "T = stats.binom(8,0.9)\n",
    "\n",
    "T.mean()"
   ]
  },
  {
   "cell_type": "markdown",
   "id": "9eb9ae64",
   "metadata": {},
   "source": [
    "- c)\n",
    "Gọi P_A là xác suất để A hòa ít nhất một ván,P_notA là xác suất để A không hòa ván nào, ta có : \\\n",
    "$P_A = 1 - P_{notA} = 1 - 0.9^3 = 0.271$ "
   ]
  },
  {
   "cell_type": "code",
   "execution_count": 15,
   "id": "27aec179",
   "metadata": {},
   "outputs": [
    {
     "data": {
      "text/plain": [
       "0.271"
      ]
     },
     "execution_count": 15,
     "metadata": {},
     "output_type": "execute_result"
    }
   ],
   "source": [
    "A = stats.binom(3,0.1)\n",
    "\n",
    "ans = 1 - A.pmf(0)\n",
    "ans"
   ]
  },
  {
   "cell_type": "markdown",
   "id": "8e1e9a58",
   "metadata": {},
   "source": [
    "**Bài 2.** Giả sử số khách hàng đến giao dịch tại một cây ATM trong một phút là biến ngẫu nhiên có phân phối Poison, và theo các dữ liệu thu thập được thì cứ 8 phút có 2 khách hàng đến giao dịch tại cây ATM này.\n",
    "- a) Tính xác suất để trong 8 phút có $3$ khách hàng đến giao dịch tại cây ATM.\n",
    "- b) Tính xác suất để trong 1 phút, không có khách nào đến giao dịch tại cây ATM."
   ]
  },
  {
   "cell_type": "markdown",
   "id": "630dbfeb",
   "metadata": {},
   "source": [
    "$\\text {Bài làm}$"
   ]
  },
  {
   "cell_type": "code",
   "execution_count": 16,
   "id": "55373f50",
   "metadata": {},
   "outputs": [
    {
     "data": {
      "text/plain": [
       "0.18044704431548356"
      ]
     },
     "execution_count": 16,
     "metadata": {},
     "output_type": "execute_result"
    }
   ],
   "source": [
    "# a) 8 phút có 3 khách hàng đến giao dịch => lamda = 2.1 = 2\n",
    "X = stats.poisson(2)\n",
    "\n",
    "ans = X.pmf(3)\n",
    "ans"
   ]
  },
  {
   "cell_type": "code",
   "execution_count": 18,
   "id": "51dc707f",
   "metadata": {},
   "outputs": [
    {
     "data": {
      "text/plain": [
       "0.7788007830714049"
      ]
     },
     "execution_count": 18,
     "metadata": {},
     "output_type": "execute_result"
    }
   ],
   "source": [
    "# b) 1 phút không có khách nào đến giao dịch => lamda = 2/8 = 1/4\n",
    "X = stats.poisson(1/4)\n",
    "\n",
    "ans = X.pmf(0)\n",
    "ans"
   ]
  },
  {
   "cell_type": "markdown",
   "id": "51223657",
   "metadata": {},
   "source": [
    "**Bài 3.** Một khối tín hiệu gồm 100 bit được dẫn theo một kênh truyền với xác suất bị lỗi của mỗi bit là $0,002$. Biết rằng khả năng bị lỗi của mỗi bit khi được truyền là độc lập nhau. Tìm xác suất khối tín hiệu đó khi nhận được có ít nhất 2 bit lỗi."
   ]
  },
  {
   "cell_type": "markdown",
   "id": "cde390f6",
   "metadata": {},
   "source": [
    "**Bài 4.** Giả sử bạn đang tìm kiếm một sinh viên cùng trường sống cách bạn khoảng $5 km$. Bạn biết rằng 55\\% trong số 50.000 sinh viên thỏa mãn điều kiện đó. Bạn liên hệ ngẫu nhiên với các sinh viên trong trường cho đến khi một người nói rằng họ sống cách bạn $5 km$ thì thôi. Xác suất để bạn cần liên lạc với $4$ người là bao nhiêu?"
   ]
  },
  {
   "cell_type": "markdown",
   "id": "3dd38dcd",
   "metadata": {},
   "source": [
    "**Bài 5.** Giả sử xác suất thi đậu của mỗi người trong một lần thi là $0,8$ và họ đều thi cho đến khi lấy được bằng thì thôi. Tính xác suất để thí sinh thi không quá $2$ lần."
   ]
  }
 ],
 "metadata": {
  "kernelspec": {
   "display_name": "Python 3",
   "language": "python",
   "name": "python3"
  },
  "language_info": {
   "codemirror_mode": {
    "name": "ipython",
    "version": 3
   },
   "file_extension": ".py",
   "mimetype": "text/x-python",
   "name": "python",
   "nbconvert_exporter": "python",
   "pygments_lexer": "ipython3",
   "version": "3.12.2"
  }
 },
 "nbformat": 4,
 "nbformat_minor": 5
}
