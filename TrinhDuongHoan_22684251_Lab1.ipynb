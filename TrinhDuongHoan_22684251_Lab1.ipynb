{
 "cells": [
  {
   "cell_type": "markdown",
   "metadata": {},
   "source": [
    "## XÁC SUẤT TRONG KHOA HỌC DỮ LIỆU IUH 2024\n",
    "\n",
    "### Lab 1. Thao tác cơ bản với Python. Nhập môn Xác suất (ngày 08/01)"
   ]
  },
  {
   "cell_type": "markdown",
   "metadata": {},
   "source": [
    "## 1. Cài đặt và dùng Jupyter Notebook"
   ]
  },
  {
   "cell_type": "markdown",
   "metadata": {},
   "source": [
    "Các trang web tham khảo:\n",
    "* Đọc hướng dẫn [Markdown](https://viblo.asia/helps/cach-su-dung-markdown-bxjvZYnwkJZ)\n",
    "* Đọc hướng dẫn [LaTeX](https://latex.codecogs.com/legacy/eqneditor/editor.php?lang=vi-vi)\n",
    "* Học [Python cơ bản](https://github.com/vqhBook/python)"
   ]
  },
  {
   "cell_type": "code",
   "execution_count": null,
   "metadata": {},
   "outputs": [],
   "source": [
    "import matplotlib.pyplot as plt\n",
    "import random"
   ]
  },
  {
   "cell_type": "markdown",
   "metadata": {},
   "source": [
    "## Các công thức cơ bản"
   ]
  },
  {
   "cell_type": "markdown",
   "metadata": {},
   "source": [
    "| Toán tử | Ghi chú |\n",
    "|----|---|\n",
    "| +  | cộng |\n",
    "| -  | trừ |\n",
    "| /  | chia |\n",
    "| //  | chia lấy phần nguyên |\n",
    "| *  | nhân |\n",
    "| %  | chia lấy phần dư |\n",
    "| **  | lũy thừa |"
   ]
  },
  {
   "cell_type": "code",
   "execution_count": null,
   "metadata": {},
   "outputs": [],
   "source": [
    "#hãy bỏ comment và chạy các dòng code sau đây để quan sát kết quả\n",
    "x = 2024\n",
    "#print(type(x))\n",
    "#print(x)\n",
    "#print(x + 1)\n",
    "#print(x - 1)\n",
    "#print(x * 2)\n",
    "#print(x ** 2)  "
   ]
  },
  {
   "cell_type": "code",
   "execution_count": null,
   "metadata": {},
   "outputs": [],
   "source": [
    "x = 2023\n",
    "#print(x / 2)   \n",
    "#print(x // 2)  \n",
    "#print(x % 2)\n",
    "#x += 1\n",
    "#print(x)\n",
    "#print(x * 2)"
   ]
  },
  {
   "cell_type": "code",
   "execution_count": null,
   "metadata": {},
   "outputs": [],
   "source": [
    "#hãy bỏ comment và chạy từng dòng code sau đây để quan sát kết quả\n",
    "y = 20.24\n",
    "#print(type(y))\n",
    "#print(y, y + 1, y * 2, y ** 2)\n",
    "# print(type(4/2))"
   ]
  },
  {
   "cell_type": "code",
   "execution_count": null,
   "metadata": {},
   "outputs": [],
   "source": [
    "#hãy bỏ comment và chạy từng dòng code sau đây để quan sát kết quả\n",
    "#round(3.14159265359, 0)\n",
    "#round(3.14159265359, 1)\n",
    "#round(3.14159265359, 2)\n",
    "#abs(-3.14159265359)\n",
    "#pow(3.14159265359, 10)"
   ]
  },
  {
   "cell_type": "code",
   "execution_count": null,
   "metadata": {},
   "outputs": [],
   "source": [
    "import math\n",
    "math.factorial(6) #tính giai thừa, thử với số lớn hơn"
   ]
  },
  {
   "cell_type": "code",
   "execution_count": null,
   "metadata": {},
   "outputs": [],
   "source": [
    "from scipy import special\n",
    "special.binom(6, 3) # tính tổ hợp chập k của n\n",
    "special.comb(6, 3)  # vẫn là tính tổ hợp chập k của n\n",
    "special.comb(6, 3, exact=True) # làm tròn\n",
    "#hãy thử với số lớn hơn"
   ]
  },
  {
   "cell_type": "markdown",
   "metadata": {},
   "source": [
    "**Yêu cầu:**\n",
    "Hãy nhớ lại công thức tính $C(n,k)$ theo $n!, k!$ và viết đoạn code tính $C(100,20)$ theo 2 cách. Rút ra nhận xét."
   ]
  },
  {
   "cell_type": "code",
   "execution_count": null,
   "metadata": {},
   "outputs": [],
   "source": [
    "nCk = math.factorial(100) / (math.factorial(20) * math.factorial(100 - 20))\n",
    "comb = special.comb(100, 20)\n",
    "print(nCk, comb)"
   ]
  },
  {
   "cell_type": "markdown",
   "metadata": {},
   "source": [
    "## 2. Các khái niệm cơ bản về xác suất\n",
    "\n",
    "**Lý thuyết xác suất** (probability theory) là ngành Toán học giúp định lượng, tính toán và suy diễn trên các hiện tượng **ngẫu nhiên** (random) và/hoặc **không chắc chắn** (uncertain).\n",
    "\n",
    "**Thí nghiệm ngẫu nhiên** (random experiment) là các quá trình/hoạt động/thử nghiệm/công việc/thao tác không biết chắc **kết quả** (outcome). Tập tất cả các kết quả có thể của một thí nghiệm ngẫu nhiên được gọi là **không gian mẫu** (sample space), thường kí hiệu là $S$ hay $\\Omega$ (omega).\n",
    "\n",
    "Nếu việc xảy ra hay không của một tình huống $E$ được xác định hoàn toàn khi biết kết quả $\\omega$ của thí nghiệm $T$ thì $E$ được gọi là **biến cố** (event) liên quan đến $T$. Nếu $\\omega$ làm cho $E$ xảy ra thì $\\omega$ được gọi là một kết quả thuận lợi cho $E$. Biến cố được xác định bởi các kết quả thuận lợi cho nó:\n",
    "$$E = \\{\\omega \\in \\Omega: \\omega \\text{ thuận lợi cho } E\\} \\subset \\Omega$$\n",
    "\n",
    "**Xác suất** (probability) của biến cố $E$, kí hiệu $P(E)$, là số thực thuộc đoạn $[0, 1]$ định lượng khả năng xảy ra của $E$.\n",
    "\n",
    "**Mô hình xác suất đơn giản** (simple/classical probability model): không gian mẫu **hữu hạn** (finite) và các **kết quả đồng khả năng** (equiprobable outcomes). Công thức tính xác suất biến cố:\n",
    "$$P(E) = \\frac{|E|}{|\\Omega|}$$\n",
    "Kí hiệu $|X|$ dùng để chỉ số lượng phần tử của tập hợp hữu hạn $X$. Trong mô hình xác suất đơn giản, việc tính xác suất được đưa về việc **đếm** (counting).\n",
    "\n",
    "\"Lý thuyết biến cố\" được hình thức hóa bằng \"lý thuyết tập hợp\". Xét thí nghiệm $T$ với không gian mẫu $\\Omega$ và các biến cố $E, F \\subset \\Omega$:\n",
    "\n",
    "* $\\Omega$: **biến cố chắc chắn** (certain event)\n",
    "\n",
    "* $\\emptyset$: **biến cố không thể** (impossible event)"
   ]
  },
  {
   "cell_type": "markdown",
   "metadata": {},
   "source": [
    "### 2.1 Các ví dụ minh họa"
   ]
  },
  {
   "cell_type": "markdown",
   "metadata": {},
   "source": [
    "> SV đọc các câu hỏi và tham khảo cách trình bày lời giải bằng Latex kết hợp với code tính toán như bên dưới:"
   ]
  },
  {
   "cell_type": "code",
   "execution_count": null,
   "metadata": {},
   "outputs": [],
   "source": [
    "from IPython.display import SVG, Math\n",
    "from fractions import Fraction as F"
   ]
  },
  {
   "cell_type": "markdown",
   "metadata": {},
   "source": [
    "### Câu 1.\n",
    "**Bốc ngẫu nhiên $1$ viên bi trong hộp $50$ bi gồm $20$ đen và $30$ đỏ, khả năng bốc trúng màu nào lớn hơn?**"
   ]
  },
  {
   "cell_type": "markdown",
   "metadata": {},
   "source": [
    "Không gian mẫu $\\Omega = \\{50 \\text{ viên bi}\\}, |\\Omega| = 50$."
   ]
  },
  {
   "cell_type": "markdown",
   "metadata": {},
   "source": [
    "Đặt các biến cố: $A$ là \"bốc được bi đỏ\", $B$ là \"bốc được bi đen\". Như vậy:\n",
    "* $A = \\{r_1, r_2, ..., r_{30}\\}, |A| = 30$\n",
    "* $B = \\{b_1, b_2, ..., b_{20}\\}, |B| = 20$"
   ]
  },
  {
   "cell_type": "markdown",
   "metadata": {},
   "source": [
    "Dùng công thức xác suất cổ điển, ta có xác suất bốc được bi đỏ là:\n",
    "$$P(A) = \\frac{|A|}{|\\Omega|} = \\frac{30}{50} = 0.6$$"
   ]
  },
  {
   "cell_type": "code",
   "execution_count": null,
   "metadata": {},
   "outputs": [],
   "source": [
    "P_A = F(30, 50)\n",
    "print(P_A, float(P_A))"
   ]
  },
  {
   "cell_type": "markdown",
   "metadata": {},
   "source": [
    "Xác suất bốc được bi đen là:\n",
    "$$P(B) = \\frac{|B|}{|\\Omega|} = \\frac{20}{50}$$"
   ]
  },
  {
   "cell_type": "code",
   "execution_count": null,
   "metadata": {},
   "outputs": [],
   "source": [
    "P_B = F(20, 50)\n",
    "print(P_B, float(P_B))"
   ]
  },
  {
   "cell_type": "markdown",
   "metadata": {
    "variables": {
     "20/50": {},
     "30/50": {}
    }
   },
   "source": [
    "Vì $P(A) > P(B)$ nên khả năng bốc được bi màu đỏ lớn hơn."
   ]
  },
  {
   "cell_type": "markdown",
   "metadata": {},
   "source": [
    "### Câu 2.\n",
    "**Gieo $2$ con xúc xắc \"đồng chất\", hỏi khả năng ra tổng là $10$ lớn gấp mấy lần khả năng ra tổng $11$?**"
   ]
  },
  {
   "cell_type": "markdown",
   "metadata": {},
   "source": [
    "Không gian mẫu $\\Omega = \\{(x, y): x, y \\in \\{1, 2, ..., 6\\}\\} = \\{1, 2, ..., 6\\}^2, |\\Omega| = 6^2 = 36$."
   ]
  },
  {
   "cell_type": "markdown",
   "metadata": {},
   "source": [
    "Đặt các biến cố: $A$ là \"gieo được tổng là 10\", $B$ là \"gieo được tổng là 11\". Như vậy:\n",
    "* $A = \\{(4, 6), (5, 5), (6, 4)\\}, |A| = 3$\n",
    "* $B = \\{(5, 6), (6, 5)\\}, |B| = 2$"
   ]
  },
  {
   "cell_type": "markdown",
   "metadata": {},
   "source": [
    "Dùng công thức xác suất cổ điển, ta có xác suất gieo được tổng là 10: \n",
    "$$P(A) = \\frac{|A|}{|\\Omega|} = \\frac{3}{36}$$"
   ]
  },
  {
   "cell_type": "code",
   "execution_count": null,
   "metadata": {},
   "outputs": [],
   "source": [
    "P_A = F(3, 36)\n",
    "print(P_A)"
   ]
  },
  {
   "cell_type": "markdown",
   "metadata": {},
   "source": [
    "Xác suất gieo được tổng là 11: \n",
    "$$P(B) = \\frac{|B|}{|\\Omega|} = \\frac{2}{36}$$"
   ]
  },
  {
   "cell_type": "code",
   "execution_count": null,
   "metadata": {},
   "outputs": [],
   "source": [
    "P_B = F(2, 36)\n",
    "print(P_B)"
   ]
  },
  {
   "cell_type": "markdown",
   "metadata": {
    "variables": {
     "3/2": {},
     "6**2": {},
     "f\"{2/6**2:.2f}\"": {},
     "f\"{3/6**2:.2f}\"": {}
    }
   },
   "source": [
    "Vậy xác suất gieo được tổng 10 là lớn hơn và gấp:"
   ]
  },
  {
   "cell_type": "code",
   "execution_count": null,
   "metadata": {},
   "outputs": [],
   "source": [
    "print(P_A/P_B, float(P_A/P_B))"
   ]
  },
  {
   "cell_type": "markdown",
   "metadata": {},
   "source": [
    "### Câu 3.\n",
    "**Tung $1$ đồng xu \"đồng chất\" $3$ lần, xác suất có ngửa nhiều hơn sấp?**"
   ]
  },
  {
   "cell_type": "markdown",
   "metadata": {},
   "source": [
    "Không gian mẫu $\\Omega = \\{S, N\\}^3, |\\Omega| = 2^3 = 8$."
   ]
  },
  {
   "cell_type": "markdown",
   "metadata": {},
   "source": [
    "Đặt $A$ là biến cố \"được ngửa nhiều hơn sấp\". Như vậy:\n",
    "$$A = \\{(N, N, N), (N, N, S), (N, S, N), (S, N, N)\\}, |A| = 4$$"
   ]
  },
  {
   "cell_type": "markdown",
   "metadata": {},
   "source": [
    "Dùng mô hình xác suất đơn giản, ta có: \n",
    "$$P(A) = \\frac{|A|}{|\\Omega|} = \\frac{4}{2^3}$$"
   ]
  },
  {
   "cell_type": "code",
   "execution_count": null,
   "metadata": {},
   "outputs": [],
   "source": [
    "P_A = F(4, 2**3)\n",
    "print(P_A)"
   ]
  },
  {
   "cell_type": "markdown",
   "metadata": {},
   "source": [
    "### Câu 4.\n",
    "**Xác suất có ít nhất $2$ người cùng sinh nhật trong $k = 50$ người là bao nhiêu? Khảo sát sự thay đổi của xác suất vào giá trị $k$.**"
   ]
  },
  {
   "cell_type": "markdown",
   "metadata": {},
   "source": [
    "Để đơn giản ta giả sử 1 năm có $n = 365$ ngày và ngày sinh của mọi người là ngẫu nhiên. Ta tìm xác suất có ít nhất 2 người cùng sinh nhật trong $k = 50$ người."
   ]
  },
  {
   "cell_type": "code",
   "execution_count": null,
   "metadata": {},
   "outputs": [],
   "source": [
    "n = 365\n",
    "k = 50\n",
    "\n",
    "days = r\"\\{1, 2, ..., %d\\}\" % n \n",
    "O_tex = Math(r\"\\Omega = %s^{%d}\" % (days, k))\n",
    "Osize_tex = Math(r\"|\\Omega| = %d^{%d}\" % (n, k))\n",
    "B_tex = Math(r\"B = \\{\\text{chỉnh hợp chọn } %d \\text{ của } %s\\}\" % (k, days))\n",
    "Bsize_tex = Math(r\"|B| = P_{%d}^{%d} = \\frac{%d!}{%d!}\" % (n, k, n, k))"
   ]
  },
  {
   "cell_type": "markdown",
   "metadata": {},
   "source": [
    "Không gian mẫu:"
   ]
  },
  {
   "cell_type": "code",
   "execution_count": null,
   "metadata": {},
   "outputs": [],
   "source": [
    "display(Osize_tex)"
   ]
  },
  {
   "cell_type": "markdown",
   "metadata": {},
   "source": [
    "Đặt các biến cố: $A$ là \"có ít nhất 2 người cùng ngày sinh\", $B$ là \"không có người nào cùng ngày sinh\". Như vậy, $A = B^c$ và:"
   ]
  },
  {
   "cell_type": "code",
   "execution_count": null,
   "metadata": {},
   "outputs": [],
   "source": [
    "display(B_tex, Bsize_tex)"
   ]
  },
  {
   "cell_type": "markdown",
   "metadata": {},
   "source": [
    "Dùng mô hình xác suất đơn giản, ta có: \n",
    "$$P(B) = \\frac{|B|}{|\\Omega|}$$"
   ]
  },
  {
   "cell_type": "code",
   "execution_count": null,
   "metadata": {},
   "outputs": [],
   "source": [
    "#Hãy đọc hiểu cấu trúc của hàm bên dưới\n",
    "def perm(n, k):\n",
    "    p = 1\n",
    "    for i in range(n - k + 1, n + 1):\n",
    "        p *= i\n",
    "    return p\n",
    "\n",
    "P_B = perm(n, k) / n**k\n",
    "print(f\"{P_B:.4f}\")"
   ]
  },
  {
   "cell_type": "markdown",
   "metadata": {
    "variables": {
     "\"%.2f\" % P_A": {},
     "\"%.2f\" % P_B": {},
     "B_tex": {},
     "Bsize_tex": {},
     "O_tex": {},
     "Osize_tex": {},
     "k": {},
     "n": {}
    }
   },
   "source": [
    "Do đó xác suất có ít nhất 2 người cùng sinh nhật là:\n",
    "$$P(A) = 1 - P(B)$$"
   ]
  },
  {
   "cell_type": "code",
   "execution_count": null,
   "metadata": {},
   "outputs": [],
   "source": [
    "P_A = 1 - P_B\n",
    "print(f\"{P_A:.4f}\")"
   ]
  },
  {
   "cell_type": "markdown",
   "metadata": {},
   "source": [
    "Ta khảo sát thêm sự phụ thuộc của $p = P(A)$ vào số người $k$."
   ]
  },
  {
   "cell_type": "code",
   "execution_count": null,
   "metadata": {},
   "outputs": [],
   "source": [
    "k_list = range(0, 60)\n",
    "P_list = [1 - perm(365, k)/365**k for k in k_list]\n",
    "P_Ak = 1 - perm(365, k)/365**k\n",
    "\n",
    "plt.plot(k_list, P_list)\n",
    "plt.xlabel(\"k\")\n",
    "plt.ylabel(\"p\")\n",
    "plt.title(\"Khảo sát xác suất có ít nhất 2 người cùng sinh nhật trong k người\")\n",
    "plt.text(k, P_Ak, f\"k = {k}, p = {P_Ak:.2f}\")\n",
    "plt.show()"
   ]
  },
  {
   "cell_type": "markdown",
   "metadata": {},
   "source": [
    "### 2.2 Bài tập ứng dụng.\n",
    "\n",
    "Tham khảo cách trình bày ở trên, SV hãy giải các bài toán bên dưới."
   ]
  },
  {
   "cell_type": "markdown",
   "metadata": {},
   "source": [
    "### Bài 1. \n",
    "\n",
    "Tung 2 con xúc xắc đồng chất.   "
   ]
  },
  {
   "cell_type": "markdown",
   "metadata": {},
   "source": [
    "(a) Cho biết không gian mẫu của phép thử.\\\n",
    "Lần tung đầu tiên ta có 6 giá trị khác nhau có thể xảy ra\\\n",
    "Lần tung thứ hai cũng có 6 giá trị khác nhau có thể xảy ra\\\n",
    "=> Nên ta có: $\\Omega = 6^2 = 36$"
   ]
  },
  {
   "cell_type": "code",
   "execution_count": null,
   "metadata": {},
   "outputs": [],
   "source": [
    "Omega = 6**2\n",
    "Osize_tex = Math(r\"|\\Omega| = %d^{%d} = %d\" % (6, 2, Omega))\n",
    "Osize_tex"
   ]
  },
  {
   "cell_type": "markdown",
   "metadata": {},
   "source": [
    "(b) Đặt $E$ là biến cố \"tổng $2$ mặt không quá $10$\", liệt kê các kết quả thuận lợi cho $\\overline{E}.$"
   ]
  },
  {
   "cell_type": "code",
   "execution_count": null,
   "metadata": {},
   "outputs": [],
   "source": [
    "EE = [(x, y) for x in range(1, 7) for y in range(1, 7) if x + y > 10]\n",
    "EE"
   ]
  },
  {
   "cell_type": "markdown",
   "metadata": {},
   "source": [
    "(c) Tính xác suất của $E$."
   ]
  },
  {
   "cell_type": "code",
   "execution_count": null,
   "metadata": {},
   "outputs": [],
   "source": [
    "P_EE = len(EE) / Omega\n",
    "P_E = 1 - P_EE\n",
    "P_E"
   ]
  },
  {
   "cell_type": "markdown",
   "metadata": {},
   "source": [
    "(d) Đặt F là biến cố \"hai mặt giống nhau.\" Tính $P(\\overline{F})$."
   ]
  },
  {
   "cell_type": "code",
   "execution_count": null,
   "metadata": {},
   "outputs": [],
   "source": [
    "P_FF = 1 - 6 / Omega\n",
    "P_FF"
   ]
  },
  {
   "cell_type": "markdown",
   "metadata": {},
   "source": [
    "### Bài 2. \n",
    "\n",
    "Có một nhóm gồm 7 SV nam và 3 SV nữ, mỗi bạn được bốc thăm chọn STT (từ 1 đến 10) để thi vấn đáp. Tính xác suất để bạn đầu tiên và bạn cuối cùng đều là nữ.\\\n",
    "Không gian mẫu $|\\Omega| = 10!$\\\n",
    "Gọi A là biến cố để 2 bạn ở đầu và cuối là n\\\n",
    "Giả sử ta chọn 2 bạn đầu và cuối là Nữ $\\Rightarrow$ có $A_3^2$ cách chọn\\\n",
    "Còn lại 8 vị trí ta xếp tùy thích $\\Rightarrow$ có $8!$ cách\\\n",
    "nên $|A| = A_3^2 \\times 8!$\\\n",
    "Vậy $P(A) = \\frac {|A|} {|\\Omega|} = \\frac {A_3^2 \\times 8!} {10!}$"
   ]
  },
  {
   "cell_type": "code",
   "execution_count": null,
   "metadata": {},
   "outputs": [],
   "source": [
    "P_A = special.comb(3, 2) * math.factorial(3 - 2) * math.factorial(8) / math.factorial(10)\n",
    "P_A"
   ]
  },
  {
   "cell_type": "markdown",
   "metadata": {},
   "source": [
    "### Bài 3. \n",
    "Lớp có 60 SV, muốn chia thành 15 nhóm thực hành có STT là 1, 2, 3, ..., 15, mỗi nhóm có 4 SV. Hỏi có mấy cách?\\\n",
    "Nhóm đầu ta có $C(60, 4)$ cách chọn\\\n",
    "Nhóm thứ hai ta có $C(54,4)$ cách chọn\\\n",
    "...\n",
    "Nhóm thứ 15 ta có $C(4, 4)$ cách chọn\\\n",
    "$\\Rightarrow$ Kết quả $= C(60, 4)C(54, 4)...C(4, 4) = \\frac {60!} {{4!}^{15}}$\n"
   ]
  },
  {
   "cell_type": "code",
   "execution_count": null,
   "metadata": {},
   "outputs": [],
   "source": [
    "math.factorial(60) / math.factorial(4)**15"
   ]
  },
  {
   "cell_type": "markdown",
   "metadata": {},
   "source": [
    "### Bài 4.  \n",
    "Một khu phố có $10000$ người, trong đó có  \n",
    "- $3000$ người trẻ.\n",
    "- $4600$ người nam.\n",
    "- $7000$ người đã kết hôn.  \n",
    "- $1320$ người nam trẻ.\n",
    "- $3010$ người nam đã kết hôn.  \n",
    "- $1400$ người trẻ đã kết hôn.\n",
    "- $600$ người nam trẻ đã kết hôn. \n",
    "\n",
    "Chọn ngẫu nhiên một người trong khu phố, tính xác suất người đó là nữ trẻ độc thân.\\\n",
    "Ta có: \n",
    "- người nữ trẻ = người trẻ - người nam trẻ = $3000 - 1320 = 1680$\n",
    "- người nữ trẻ đã kết hôn = người trẻ đã kết hôn - người nam trẻ đã kết hôn = $1400-600 = 800$\n",
    "- người nữ trẻ chưa kết hôn = người nữ trẻ - người nữ trẻ đã kết hôn = $1680-800=880$\n",
    "$\\Rightarrow$ Gọi A là biến cố người nữ trẻ chưa kết hôn $\\Rightarrow |A| = 880$\\\n",
    "Vậy xác suất người đó là nữ trẻ độc thân là $P(A) = \\frac {|A|} {|\\Omega|} = \\frac {880} {10000}$"
   ]
  },
  {
   "cell_type": "code",
   "execution_count": null,
   "metadata": {},
   "outputs": [],
   "source": [
    "880 / 10000"
   ]
  },
  {
   "cell_type": "markdown",
   "metadata": {},
   "source": [
    "### Bài 5. \n",
    "Bốc ngẫu nhiên 8 viên bi trong hộp gồm $7$ bi đỏ và $8$ bi đen. Tính xác suất bốc được số bi đỏ nhiều hơn số bi đen trong các trường hợp sau:"
   ]
  },
  {
   "cell_type": "markdown",
   "metadata": {},
   "source": [
    "(a) Bốc có hoàn lại.\n",
    "Ta có: $|\\Omega| = 15^{8}$\n",
    "- Trường hợp 1: Số lượng bị đỏ là 5 $\\Rightarrow C(8,5) \\times 7^5 \\times 8^3$\n",
    "- Trường hợp 2: Số lượng bị đỏ là 6 $\\Rightarrow C(8,6) \\times 7^6 \\times 8^2$\n",
    "- Trường hợp 3: Số lượng bị đỏ là 7 $\\Rightarrow C(8,7) \\times 7^7 \\times 8^1$\n",
    "$\\Rightarrow |A| =C(8,5) \\times 7^5 \\times 8^3 + C(8,6) \\times 7^6 \\times 8^2 + C(8,7) \\times 7^7 \\times 8^1$\n",
    "Vậy $P(A) = \\frac {|A|} {|\\Omega|} = \\frac {C(8,5) \\times 7^5 \\times 8^3 + C(8,6) \\times 7^6 \\times 8^2 + C(8,7) \\times 7^7 \\times 8^1} {18^8}$\n"
   ]
  },
  {
   "cell_type": "code",
   "execution_count": null,
   "metadata": {},
   "outputs": [],
   "source": [
    "sum([special.comb(8, i) * 7 ** i * 8 ** (8 - i) for i in range(5, 8)]) / (15**8)"
   ]
  }
 ],
 "metadata": {
  "hide_input": false,
  "kernelspec": {
   "display_name": "Python 3",
   "language": "python",
   "name": "python3"
  },
  "language_info": {
   "codemirror_mode": {
    "name": "ipython",
    "version": 3
   },
   "file_extension": ".py",
   "mimetype": "text/x-python",
   "name": "python",
   "nbconvert_exporter": "python",
   "pygments_lexer": "ipython3",
   "version": "3.11.7"
  }
 },
 "nbformat": 4,
 "nbformat_minor": 4
}
