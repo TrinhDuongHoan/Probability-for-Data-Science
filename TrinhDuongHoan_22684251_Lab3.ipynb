{
 "cells": [
  {
   "cell_type": "markdown",
   "metadata": {},
   "source": [
    "## XÁC SUẤT TRONG KHOA HỌC DỮ LIỆU IUH 2024\n",
    "\n",
    "### Lab 3. Xác suất có điều kiện (ngày 22/01)"
   ]
  },
  {
   "cell_type": "markdown",
   "metadata": {},
   "source": [
    "## Tóm lược lý thuyết\n",
    "\n",
    "### Xác suất có điều kiện\n",
    "\n",
    "**Xác suất có điều kiện** (conditional probability) của biến cố $E_2$ khi biết biến cố $E_1$ đã xảy ra được định nghĩa là:\n",
    "$$P(E_2 | E_1) = \\frac{P(E_1 \\cap E_2)}{P(E_1)}$$\n",
    "với $P(E_1 ) > 0$.\n",
    "\n",
    "Các lưu ý về xác suất có điều kiện:\n",
    "* $P(E_2 | E_1)$ có thể hiểu là xác suất của $E_2$ \"tính trong không gian mẫu mới\" là $E_1$.\n",
    "* Cho biến cố $E_0$ với $P(E_0) > 0$ thì $P(. | E_0)$ là cách gắn xác suất (độ đo xác suất) hợp lệ.\n",
    "* Mọi tiên đề, tính chất, công thức xác suất đều đúng cho xác suất có điều kiện. Nói cách khác, các công thức xác suất vẫn đúng khi \"điều kiện hóa\".\n",
    "* $P(E) = P(E | \\Omega)$.\n",
    "\n",
    "**Công thức nhân xác suất** (multiplication law of probability):\n",
    "$$P(E_1 \\cap E_2) = P(E_1) \\times P(E_2 | E_1)$$\n",
    "$$P(E_1 \\cap E_2 \\cap E_3 \\cap ... \\cap E_n) = P(E_1) \\times P(E_2 | E_1) \\times P(E_3 | E_1 \\cap E_2) \\times ... \\times P(E_n | E_1 \\cap E_2 \\cap ... \\cap E_{n-1})$$\n",
    "Trong nhiều trường hợp, xác suất có điều kiện dễ tính hơn \"xác suất đồng thời\".\n",
    "\n",
    "Họ các biến cố $\\{A_1, A_2, ..., A_n\\}$ được gọi là một **họ đầy đủ** hay một **phân hoạch** (partition) của $\\Omega$ nếu:\n",
    "  * $A_i \\cap A_j = \\emptyset, \\forall i \\ne j$ \n",
    "  * $\\Omega = A_1 \\cup A_2 \\cup ... \\cup A_n$\n",
    "  * $P(A_i) > 0, \\forall i$\n",
    "\n",
    "Nói cách khác, $A_1, A_2, ..., A_n$ là một cách chia trường hợp \"không trùng, không sót\" của $\\Omega$.\n",
    "\n",
    "**Công thức xác suất toàn phần** (law of total probability): Cho họ đầy đủ $\\{A_1, A_2, ..., A_n\\}$ của $\\Omega$, với mọi biến cố $E$ ta có:\n",
    "$$P(E) = \\sum_{i=1}^{n} P(E \\cap A_i) = \\sum_{i=1}^{n} P(A_i)P(E | A_i)$$\n",
    "\n",
    "Đặc biệt, với $A \\subset \\Omega, 0 < P(A) < 1$:\n",
    "$$P(E) = P(E \\cap A) + P(E \\cap A^c) = P(A)P(E | A) + P(A^c)P(E | A^c)$$\n",
    "\n",
    "**Sơ đồ cây** (tree diagram) thường được dùng để xét các trường hợp và hỗ trợ tính xác suất các biến cố trong \"thí nghiệm nhiều giai đoạn\" rất trực quan.\n",
    "\n",
    "**Định lý Bayes** (Bayes' theorem): Cho họ đầy đủ $\\{A_1, A_2, ..., A_n\\}$ của $\\Omega$ và biến cố $E$, $P(E) > 0$. Khi đó, $\\forall i = 1, ..., n$ ta có:\n",
    "$$P(A_i | E) = \\frac{P(A_i)P(E|A_i)}{P(E)} = \\frac{P(A_i)P(E|A_i)}{\\sum_{j=1}^{n}P(A_j)P(E|A_j)}$$\n",
    "  * $P(A_i)$: **xác suất tiên nghiệm** (prior probability) của $A_i$\n",
    "  * $P(A_i | E)$: **xác suất hậu nghiệm** (posterior probability) của $A_i$ khi biết $E$\n",
    "  * $P(E | A_i)$: **xác suất hợp lý** (likelihood) của $E$ theo $A_i$\n",
    "  * Lưu ý, $P(E)$ không phụ thuộc vào $A_i$ nên:\n",
    "  $$P(A_i | E) \\propto P(A_i)P(E | A_i)$$\n",
    "  (kí hiệu $\\propto$ là \"tỉ lệ với\")"
   ]
  },
  {
   "cell_type": "markdown",
   "metadata": {},
   "source": [
    "### Độc lập xác suất\n",
    "\n",
    "2 biến cố $\\{E, F\\}$ được gọi là **độc lập** (independent) nhau nếu:\n",
    "$$P(E \\cap F) = P(E)P(F)$$\n",
    "\n",
    "$\\{E, F\\}$ độc lập nếu $P(E|F) = P(E)$ ($P(F) > 0)$ hay $P(F|E) = P(F)$ ($P(E) > 0)$\n",
    "\n",
    "2 biến cố $\\{E, F\\}$ được gọi là **độc lập có điều kiện** (conditionally independent) khi biết $A$ ($P(A) > 0$) nếu:\n",
    "$$P(E \\cap F | A) = P(E | A)P(F | A)$$\n",
    "\n",
    "$\\{E, F\\}$ độc lập có điều kiện khi biết $A$ nếu $P(E|F \\cap A) = P(E | A)$ ($P(F | A) > 0)$ hay $P(F|E \\cap A) = P(F | A)$ ($P(E | A) > 0)$\n",
    "\n",
    "Họ các biến cố $\\{A_1, A_2, ..., A_n\\}$ được gọi là độc lập nếu với mọi tập con khác rỗng, hữu hạn $\\{B_1, B_2, ..., B_k\\}$ của họ, ta có:\n",
    "$$P(B_1 \\cap B_2 \\cap ... \\cap B_k) = P(B_1)P(B_2)...P(B_k)$$\n",
    "\n",
    "**Mô hình xác suất \"lặp lại thí nghiệm độc lập\"**: thực hiện lặp lại thí nghiệm $T$ nhiều lần một cách độc lập, gọi $A_i$ là biến cố \"liên quan đến lần thực hiện thứ $i$\" thì ta có công thức tính xác suất:\n",
    "$$P(A_1 \\cap A_2 \\cap ... \\cap A_n) = P(A_1)P(A_2) ... P(A_n)$$"
   ]
  },
  {
   "cell_type": "code",
   "execution_count": 1,
   "metadata": {},
   "outputs": [],
   "source": [
    "from fractions import Fraction as F\n",
    "import matplotlib.pyplot as plt\n",
    "import random"
   ]
  },
  {
   "cell_type": "markdown",
   "metadata": {},
   "source": [
    "## Câu hỏi mở đầu"
   ]
  },
  {
   "cell_type": "markdown",
   "metadata": {},
   "source": [
    "**Bài 1.** Có 2 hộp bi: hộp I gồm 10 Đen và 5 Đỏ, hộp II gồm 8 Đen và 14 Đỏ.  Chọn ngẫu nhiên 1 hộp, từ đó tiếp tục bốc ngẫu nhiên 1 viên. Khả năng bốc trúng màu nào lớn hơn?"
   ]
  },
  {
   "cell_type": "markdown",
   "metadata": {},
   "source": [
    "**Bài 2.** Một lớp có số lượng học sinh phân theo giới tính và học lực như bảng sau:\n",
    "  \n",
    "|          | Giỏi   | Không Giỏi | Tổng   |\n",
    "|----------|--------|------------|--------|\n",
    "| **Nữ**   | 6      | 14         | **20** |\n",
    "| **Nam**  | 9      | 21         | **30** |\n",
    "| **Tổng** | **15** | **35**     | **50** |\n",
    "\n",
    "Chọn ngẫu nhiên 1 học sinh trong lớp:\n",
    "\n",
    "a) Tính xác suất chọn được nữ.\n",
    "  \n",
    "b) Tính xác suất chọn được giỏi.\n",
    "  \n",
    "c) Tính xác suất chọn được nữ giỏi.\n",
    "  \n",
    "d) Tính xác suất chọn được giỏi khi biết học sinh được chọn là nữ.\n",
    "  \n",
    "e) Tính xác suất chọn được nữ khi biết học sinh được chọn là giỏi.\n",
    "  \n",
    "f) Giới tính và học lực có \"liên quan xác suất\" nhau không?  "
   ]
  },
  {
   "cell_type": "markdown",
   "metadata": {},
   "source": [
    "**Bài 3.** Rút ngẫu nhiên 4 lá bài (không hoàn lại) từ bộ bài Tây:\n",
    "  \n",
    "  a) Tính xác suất được 4 lá cùng số.\n",
    "  \n",
    "  b) Tính xác suất được 4 lá cùng chất. \n",
    "  \n",
    "  c) Số và chất có \"liên quan xác suất\" nhau không?"
   ]
  },
  {
   "cell_type": "markdown",
   "metadata": {},
   "source": [
    "**Bài 4.** (Monty Hall problem) Có 3 cửa #1, #2, #3 chứa 1 xe và 2 con dê. Người chơi chọn 1 cửa (chẳng hạn #1). Người dẫn chương trình biết cửa nào có gì. Người dẫn chọn và mở cửa có dê trong 2 cửa còn lại (chẳng hạn #3). Người dẫn hỏi người chơi có muốn đổi lựa chọn không (vẫn giữ #1 hay chọn #2). Người chơi nên giữ hay đổi (để khả năng được xe cao hơn)?"
   ]
  },
  {
   "cell_type": "markdown",
   "metadata": {},
   "source": [
    "**Bài 5.** Giả sử một người đi xét nghiệm một bệnh nan y và được kết quả là *dương tính* (positive). Biết rằng:\n",
    "  * *Độ nhạy* (sensitive) của xét nghiệm là 90%: nghĩa là, trong 100 người bị bệnh thì khoảng 90 người cho kết quả xét nghiệm dương tính.\n",
    "  * *Độ đặc hiệu* (specificity) của xét nghiệm là 95%: nghĩa là, trong 100 người không bệnh thì khoảng 95 người cho kết quả xét nghiệm âm tính.\n",
    "  * *Độ phổ biến* (prevalence) của bệnh là 1/10000: nghĩa là, trong 10000 người thì có khoảng 1 người bị bệnh.\n",
    "\n",
    "a) Hỏi khả năng người đó thực sự mắc bệnh là cao không?\n",
    "  \n",
    "b) Giả sử để chắc ăn, họ xét nghiệm một lần nữa và vẫn ra dương tính! Hỏi lúc này thì thế nào?\n",
    "  \n",
    "c) Ta có nên xét nghiệm không? Ý nghĩa \"thật sự\" của việc xét nghiệm là gì?"
   ]
  },
  {
   "cell_type": "markdown",
   "metadata": {},
   "source": [
    "## Trả lời câu hỏi"
   ]
  },
  {
   "cell_type": "markdown",
   "metadata": {},
   "source": [
    "### Câu 1"
   ]
  },
  {
   "cell_type": "markdown",
   "metadata": {},
   "source": [
    "Đặt các biến cố:\n",
    "* $E$ là \"bốc được bi đỏ\"\n",
    "* $A$ là \"bốc được bi của hộp I\", $A^c$ là \"bốc được bi của hộp II\""
   ]
  },
  {
   "cell_type": "markdown",
   "metadata": {},
   "source": [
    "Theo đề ta có:\n",
    "$$P(A) = P(A^c) = \\frac{1}{2}$$\n",
    "$$P(E|A) = \\frac{5}{15}$$\n",
    "$$P(E|A^c) = \\frac{14}{22}$$"
   ]
  },
  {
   "cell_type": "markdown",
   "metadata": {},
   "source": [
    "Dùng công thức xác suất toàn phần với họ đầy đủ $\\{A, A^c\\}$, ta có xác suất bốc được bi đỏ là:\n",
    "$$P(E) = P(A)P(E|A) + P(A^c)P(E|A^c) = \\frac{1}{2} \\times \\frac{5}{15} + \\frac{1}{2} \\times \\frac{14}{22}$$"
   ]
  },
  {
   "cell_type": "code",
   "execution_count": 2,
   "metadata": {
    "variables": {
     "(1/2)<em>(5/15) + (1/2)</em>(14/22)": "<p><strong>SyntaxError</strong>: invalid syntax (<ipython-input-5-e883309d2d40>, line 1)</p>\n"
    }
   },
   "outputs": [
    {
     "data": {
      "text/plain": [
       "0.48484848484848486"
      ]
     },
     "execution_count": 2,
     "metadata": {},
     "output_type": "execute_result"
    }
   ],
   "source": [
    "(1/2)*(5/15) + (1/2)*(14/22)"
   ]
  },
  {
   "cell_type": "markdown",
   "metadata": {},
   "source": [
    "Vậy khả năng bốc được bi đen lớn hơn."
   ]
  },
  {
   "cell_type": "markdown",
   "metadata": {},
   "source": [
    "### Câu 2"
   ]
  },
  {
   "cell_type": "markdown",
   "metadata": {},
   "source": [
    "Đặt các biến cố:\n",
    "* $E$ là \"chọn được nữ\"\n",
    "* $F$ là \"chọn được giỏi\""
   ]
  },
  {
   "cell_type": "markdown",
   "metadata": {},
   "source": [
    "a) Từ \"cột Tổng\", ta có xác suất chọn được nữ là: \n",
    "$$P(E) = \\frac{20}{50}$$"
   ]
  },
  {
   "cell_type": "code",
   "execution_count": 3,
   "metadata": {},
   "outputs": [
    {
     "data": {
      "text/plain": [
       "0.4"
      ]
     },
     "execution_count": 3,
     "metadata": {},
     "output_type": "execute_result"
    }
   ],
   "source": [
    "20/50"
   ]
  },
  {
   "cell_type": "markdown",
   "metadata": {},
   "source": [
    "b) Từ \"dòng Tổng\", ta có xác suất chọn được giỏi là: \n",
    "$$P(F) = \\frac{15}{50}$$"
   ]
  },
  {
   "cell_type": "code",
   "execution_count": 4,
   "metadata": {},
   "outputs": [
    {
     "data": {
      "text/plain": [
       "0.3"
      ]
     },
     "execution_count": 4,
     "metadata": {},
     "output_type": "execute_result"
    }
   ],
   "source": [
    "15/50"
   ]
  },
  {
   "cell_type": "markdown",
   "metadata": {},
   "source": [
    "c) Từ \"cả bảng\", ta có xác suất chọn được nữ giỏi là: \n",
    "$$P(E \\cap F) = \\frac{6}{50}$$"
   ]
  },
  {
   "cell_type": "code",
   "execution_count": 5,
   "metadata": {},
   "outputs": [
    {
     "data": {
      "text/plain": [
       "0.12"
      ]
     },
     "execution_count": 5,
     "metadata": {},
     "output_type": "execute_result"
    }
   ],
   "source": [
    "6/50"
   ]
  },
  {
   "cell_type": "markdown",
   "metadata": {},
   "source": [
    "d) Từ \"dòng Nữ\", ta có xác suất chọn được giỏi khi biết nữ được chọn là: \n",
    "$$P(F|E) = \\frac{6}{20}$$"
   ]
  },
  {
   "cell_type": "code",
   "execution_count": 6,
   "metadata": {},
   "outputs": [
    {
     "data": {
      "text/plain": [
       "0.3"
      ]
     },
     "execution_count": 6,
     "metadata": {},
     "output_type": "execute_result"
    }
   ],
   "source": [
    "6/20"
   ]
  },
  {
   "cell_type": "markdown",
   "metadata": {},
   "source": [
    "e) Từ \"cột Giỏi\", ta có xác suất chọn được nữ khi biết giỏi được chọn là: \n",
    "$$P(E|F) = \\frac{6}{15}$$"
   ]
  },
  {
   "cell_type": "code",
   "execution_count": 7,
   "metadata": {},
   "outputs": [
    {
     "data": {
      "text/plain": [
       "0.4"
      ]
     },
     "execution_count": 7,
     "metadata": {},
     "output_type": "execute_result"
    }
   ],
   "source": [
    "6/15"
   ]
  },
  {
   "cell_type": "markdown",
   "metadata": {},
   "source": [
    "f) Từ Câu (a), (b), (c) (hoặc từ Câu (a) và (e) hoặc Câu (b) và (d)), ta thấy giới tính và học lực \"không liên quan xác suất\"."
   ]
  },
  {
   "cell_type": "markdown",
   "metadata": {},
   "source": [
    "Cụ thể, ta có $P(E \\cap F) = P(E)P(F)$ nên $E, F$ độc lập nhau."
   ]
  },
  {
   "cell_type": "markdown",
   "metadata": {},
   "source": [
    "Ta cũng có thể kết luận tương tự từ việc $P(E|F) = P(E)$ hay $P(F|E) = P(F)$."
   ]
  },
  {
   "cell_type": "markdown",
   "metadata": {},
   "source": [
    "### Câu 3"
   ]
  },
  {
   "cell_type": "markdown",
   "metadata": {},
   "source": [
    "Giả sử rút lần lượt 4 lá. (\"Rõ ràng\" việc rút lần lượt hay \"đồng thời\" không quan trọng vì không hoàn lại.)"
   ]
  },
  {
   "cell_type": "markdown",
   "metadata": {},
   "source": [
    "Đặt các biến cố:\n",
    "* $E$ là \"rút được 4 lá cùng số\"\n",
    "* $F$ là \"rút được 4 lá cùng chất\""
   ]
  },
  {
   "cell_type": "markdown",
   "metadata": {},
   "source": [
    "a) Đặt $A_i$ là biến cố \"lần rút thứ $i$ được lá 2\" $(1 \\le i \\le 4)$"
   ]
  },
  {
   "cell_type": "markdown",
   "metadata": {},
   "source": [
    "Dùng công thức nhân, ta có xác suất rút được cả 4 lá 2 là:\n",
    "$$\\begin{align*}\n",
    "    P(A_1 A_2 A_3 A_4) &= P(A_1)P(A_2|A_1)P(A_3|A_1 A_2)P(A_4|A_1 A_2 A_3)\\\\\n",
    "                       &= \\frac{4}{52} \\frac{3}{51} \\frac{2}{50} \\frac{1}{49}\n",
    "\\end{align*}$$"
   ]
  },
  {
   "cell_type": "code",
   "execution_count": 8,
   "metadata": {},
   "outputs": [
    {
     "data": {
      "text/plain": [
       "3.6937852063902484e-06"
      ]
     },
     "execution_count": 8,
     "metadata": {},
     "output_type": "execute_result"
    }
   ],
   "source": [
    "P_2 = (4/52)*(3/51)*(2/50)*(1/49)\n",
    "P_2"
   ]
  },
  {
   "cell_type": "markdown",
   "metadata": {},
   "source": [
    "\"Do tính đối xứng\" nên xác suất rút được cả 4 lá cùng số khác cũng bằng xác suất rút được cả 4 lá 2. Hơn nữa các biến cố này là xung khắc nên ta có xác suất rút được 4 lá cùng số là:\n",
    "$$P(E) = 13 P(A_1 A_2 A_3 A_4)$$"
   ]
  },
  {
   "cell_type": "code",
   "execution_count": 9,
   "metadata": {},
   "outputs": [
    {
     "data": {
      "text/plain": [
       "4.801920768307323e-05"
      ]
     },
     "execution_count": 9,
     "metadata": {},
     "output_type": "execute_result"
    }
   ],
   "source": [
    "13 * P_2"
   ]
  },
  {
   "cell_type": "markdown",
   "metadata": {},
   "source": [
    "Xác suất để rút được 4 lá cùng chất:\n",
    "$$4\\frac{C_{13}^4}{C_{52}^4} = 4\\frac{\\frac{13!}{4!9!}}{\\frac{52!}{4!48!}}$$"
   ]
  },
  {
   "cell_type": "markdown",
   "metadata": {},
   "source": [
    "b) Tương tự ta có:\n",
    "$$P(F) = 4 \\frac{13}{52} \\frac{12}{51} \\frac{11}{50} \\frac{10}{49}$$"
   ]
  },
  {
   "cell_type": "code",
   "execution_count": 10,
   "metadata": {},
   "outputs": [
    {
     "data": {
      "text/plain": [
       "0.01056422569027611"
      ]
     },
     "execution_count": 10,
     "metadata": {},
     "output_type": "execute_result"
    }
   ],
   "source": [
    "4*(13/52)*(12/51)*(11/50)*(10/49)"
   ]
  },
  {
   "cell_type": "markdown",
   "metadata": {},
   "source": [
    "c) Rõ ràng số và chất có \"liên quan xác suất\" vì nếu được 4 lá cùng số thì không thể được 4 lá cùng chất."
   ]
  },
  {
   "cell_type": "markdown",
   "metadata": {},
   "source": [
    "Cụ thể, ta có $P(F) > 0$ nhưng $P(F|E) = 0$ nên $E, F$ không độc lập."
   ]
  },
  {
   "cell_type": "markdown",
   "metadata": {},
   "source": [
    "### Câu 4"
   ]
  },
  {
   "cell_type": "markdown",
   "metadata": {},
   "source": [
    "Xem thêm \"Monty Hall problem\" tại [Link](https://www.adit.io/posts/2022-11-27-the-monty-hall-problem-in-pictures.html)."
   ]
  },
  {
   "cell_type": "markdown",
   "metadata": {},
   "source": [
    "Do \"tính đối xứng\" nên ta có thể giả sử kịch bản như mô tả (người chơi chọn cửa #1, người dẫn mở cửa #3)."
   ]
  },
  {
   "cell_type": "markdown",
   "metadata": {},
   "source": [
    "Đặt $A_i$ là biến cố \"xe được đặt ở cửa #$i$\" $(1 \\le i \\le 3)$ và $B_j$ là biến cố \"người dẫn mở cửa #$j$\" $(1 \\le j \\le 3)$."
   ]
  },
  {
   "cell_type": "markdown",
   "metadata": {},
   "source": [
    "Từ đề và kịch bản đã cho (người chơi chọn  cửa #1), ta có:\n",
    "* $P(A_1) = P(A_2) = P(A_3) = \\frac{1}{3}$\n",
    "* $P(B_3|A_1) = \\frac{1}{2}$ (người chơi đã chọn cửa #1, xe cũng được đặt ở cửa #1 nên người dẫn có thể mở 1 trong 2 cửa #2, #3)\n",
    "* $P(B_3|A_2) = 1$ (người chơi đã chọn cửa #1, xe được đặt ở cửa #2 nên người dẫn chỉ có thể mở cửa #3)\n",
    "* $P(B_3|A_3) = 0$ (xe được đặt ở cửa #3 nên người dẫn không được mở cửa #3)"
   ]
  },
  {
   "cell_type": "markdown",
   "metadata": {},
   "source": [
    "Dùng công thức Bayes, ta có xác suất người chơi được xe khi không đổi cửa là:\n",
    "\\begin{align*}\n",
    "    P(A_1|B_3) &= \\frac{P(A_1)P(B_3|A_1)}{P(A_1)P(B_3|A_1) + P(A_2)P(B_3|A_2) + P(A_3)P(B_3|A_3)}\\\\\n",
    "               &= \\frac{\\frac{1}{3}\\frac{1}{2}}{\\frac{1}{3}\\frac{1}{2} + \\frac{1}{3}1 + \\frac{1}{3}0}\\\\\n",
    "               &= \\frac{1}{3}\n",
    "\\end{align*}"
   ]
  },
  {
   "cell_type": "markdown",
   "metadata": {},
   "source": [
    "Dùng công thức Bayes, ta có xác suất người chơi được xe khi đổi cửa là:\n",
    "\\begin{align*}\n",
    "    P(A_2|B_3) &= \\frac{P(A_2)P(B_3|A_2)}{P(A_1)P(B_3|A_1) + P(A_2)P(B_3|A_2) + P(A_3)P(B_3|A_3)}\\\\\n",
    "               &= \\frac{\\frac{1}{3}1}{\\frac{1}{3}\\frac{1}{2} + \\frac{1}{3}1 + \\frac{1}{3}0}\\\\\n",
    "               &= \\frac{2}{3}\n",
    "\\end{align*}"
   ]
  },
  {
   "cell_type": "markdown",
   "metadata": {},
   "source": [
    "Vậy người chơi nên chọn đổi cửa (xác suất được xe cao gấp đôi so với không đổi cửa)."
   ]
  },
  {
   "attachments": {
    "image.png": {
     "image/png": "[encoded data removed]"
    }
   },
   "cell_type": "markdown",
   "metadata": {},
   "source": [
    "Xem thêm cách dùng sơ đồ cây (tree diagram) để phân tích tại \n",
    "![image.png](attachment:image.png)"
   ]
  },
  {
   "cell_type": "markdown",
   "metadata": {},
   "source": [
    "### Câu 5"
   ]
  },
  {
   "cell_type": "markdown",
   "metadata": {},
   "source": [
    "Đặt các biến cố:\n",
    "* $D$ là \"kết quả xét nghiệm dương tính\"\n",
    "* $B$ là \"bị bệnh\""
   ]
  },
  {
   "cell_type": "markdown",
   "metadata": {},
   "source": [
    "Đề cho các thông số của xét nghiệm:"
   ]
  },
  {
   "cell_type": "markdown",
   "metadata": {},
   "source": [
    "* Độ nhạy hay **năng lực** (power):\n",
    "  $$P(D|B) = 0.9$$\n",
    "  Từ đó ta có: $P(D^c|B) = 1 - P(D|B) = 0.1$. Xác suất này thường được gọi là **tỉ lệ âm tính giả** (false negative rate) hay xác suất **sai lầm loại 2** (type II error), kí hiệu là $\\beta$."
   ]
  },
  {
   "cell_type": "markdown",
   "metadata": {},
   "source": [
    "* Độ đặc hiệu:\n",
    "  $$P(D^c|B^c) = 0.95$$\n",
    "  Từ đó ta có: $P(D|B^c) = 1 - P(D^c|B^c) = 0.05$. Xác suất này thường được gọi là **tỉ lệ dương tính giả** (false positive rate) hay xác suất **sai lầm loại 1** (type I error) hay **mức ý nghĩa** (significance level), kí hiệu là $\\alpha$."
   ]
  },
  {
   "cell_type": "markdown",
   "metadata": {},
   "source": [
    "*Lưu ý*:"
   ]
  },
  {
   "cell_type": "markdown",
   "metadata": {},
   "source": [
    "* Ta dễ dàng có độ nhạy hay độ đặc hiệu tốt riêng lẻ (chẳng hạn, xét nghiệm luôn báo dương tính sẽ có độ nhạy là 100%) nhưng không thể đồng thời tốt cả 2."
   ]
  },
  {
   "cell_type": "markdown",
   "metadata": {},
   "source": [
    "* Tùy trường hợp mà ta ưu tiên độ nhạy hay độ đặc hiệu hơn. Thông thường, độ đặc hiệu thường được quan tâm hơn vì rất nguy hiểm khi báo dương tính sai (như xét nghiệm HIV, báo dương tính sai sẽ dẫn đến suy sụp). Ngược lại, độ nhạy được quan tâm hơn khi việc báo âm tính sai để lại hậu quả lớn (như xét nghiệm COVID-19, báo âm tính sai sẽ dẫn đến lây lan)."
   ]
  },
  {
   "cell_type": "code",
   "execution_count": 11,
   "metadata": {},
   "outputs": [],
   "source": [
    "P_DB = 90/100; P_DcBc = 95/100"
   ]
  },
  {
   "cell_type": "markdown",
   "metadata": {},
   "source": [
    "a) Đề cho độ phổ biến của bệnh là $10^{-4}$. Ta có thể dùng tỉ lệ này để \"ước tính\" xác suất bị bệnh khi chưa thực hiện xét nghiệm, gọi là xác suất tiên nghiệm:\n",
    "$$P(B) = 0.0001$$\n",
    "Từ đó ta cũng có: $P(B^c) = 1 - P(B) = 0.9999$."
   ]
  },
  {
   "cell_type": "markdown",
   "metadata": {},
   "source": [
    "Dùng công thức Bayes, ta có xác suất bị bệnh khi xét nghiệm dương tính, gọi là xác suất hậu nghiệm:\n",
    "\\begin{align*}\n",
    "    P(B|D) &= \\frac{P(B)P(D|B)}{P(B)P(D|B) + P(B^c)P(D|B^c)}\\\\\n",
    "           &= \\frac{0.0001 \\times 0.9}{0.0001 \\times 0.9 + 0.9999 \\times 0.05}\n",
    "\\end{align*}"
   ]
  },
  {
   "cell_type": "code",
   "execution_count": 12,
   "metadata": {
    "scrolled": true
   },
   "outputs": [
    {
     "name": "stdout",
     "output_type": "stream",
     "text": [
      "0.0018\n"
     ]
    }
   ],
   "source": [
    "P_B = 1/10**4\n",
    "P_BD = P_B*P_DB/(P_B*P_DB + (1 - P_B)*(1 - P_DcBc))\n",
    "print(\"%.4f\" % P_BD)"
   ]
  },
  {
   "cell_type": "markdown",
   "metadata": {},
   "source": [
    "*Nhận xét*: xác suất này \"không lớn lắm\"."
   ]
  },
  {
   "cell_type": "markdown",
   "metadata": {},
   "source": [
    "b) Trước khi tiến hành xét nghiệm lần 2 ta đã có xác suất hậu nghiệm sau khi xét nghiệm lần 1. Ta có thể dùng xác suất này để \"ước tính\" xác suất bị bệnh khi chưa thực hiện xét nghiệm lần 2 (tức là dùng xác suất hậu nghiệm của lần 1 làm tiên nghiệm của lần 2):\n",
    "$$P(B) = 0.0018$$\n",
    "Từ đó ta cũng có: $P(B^c) = 1 - P(B) = 0.9982$."
   ]
  },
  {
   "cell_type": "markdown",
   "metadata": {},
   "source": [
    "Dùng công thức Bayes, ta có xác suất bị bệnh khi xét nghiệm dương tính lần 2 là:\n",
    "\\begin{align*}\n",
    "    P(B|D) &= \\frac{P(B)P(D|B)}{P(B)P(D|B) + P(B^c)P(D|B^c)}\\\\\n",
    "           &= \\frac{0.0018 \\times 0.9}{0.0018 \\times 0.9 + 0.9982 \\times 0.05}\n",
    "\\end{align*}"
   ]
  },
  {
   "cell_type": "code",
   "execution_count": 13,
   "metadata": {
    "scrolled": true
   },
   "outputs": [
    {
     "name": "stdout",
     "output_type": "stream",
     "text": [
      "0.0314\n"
     ]
    }
   ],
   "source": [
    "P_B2 = P_BD\n",
    "P_BD2 = P_B2*P_DB/(P_B2*P_DB + (1 - P_B2)*(1 - P_DcBc))\n",
    "print(\"%.4f\" % P_BD2)"
   ]
  },
  {
   "cell_type": "markdown",
   "metadata": {},
   "source": [
    "*Nhận xét*: xác suất này \"cũng chưa lớn lắm\"."
   ]
  },
  {
   "cell_type": "markdown",
   "metadata": {},
   "source": [
    "c) Việc có nên xét nghiệm hay không tùy thuộc trước hết vào xác suất tiên nghiệm ($P(B)$) của bệnh."
   ]
  },
  {
   "cell_type": "markdown",
   "metadata": {},
   "source": [
    "* Trường hợp xác suất tiên nghiệm thấp: như ta \"không làm gì để nghi nhiễm HIV\" hay không nằm trong nhóm nguy cơ cao nhiễm COVID-19 (không về từ vùng dịch, không tiếp xúc với người đã nhiễm bệnh) thì không nên xét nghiệm như tính toán trên cho thấy. Việc xét nghiệm tốn kém và thậm chí là \"tiền mất tật mang\" nếu xét nghiệm có tỉ lệ dương tính giả cao (tức là độ đặc hiệu thấp)."
   ]
  },
  {
   "cell_type": "markdown",
   "metadata": {},
   "source": [
    "* Trường hợp xác suất tiên nghiệm cao: như ta vừa phơi nhiễm HIV hay nằm trong nhóm nguy cơ cao nhiễm COVID-19 thì nên xét nghiệm. Chẳng hạn, với xác suất tiên nghiệm $P(B) = 50\\%$ thì xác suất hậu nghiệm, $P(B|D)$ là:"
   ]
  },
  {
   "cell_type": "code",
   "execution_count": 14,
   "metadata": {},
   "outputs": [
    {
     "name": "stdout",
     "output_type": "stream",
     "text": [
      "0.9474\n"
     ]
    }
   ],
   "source": [
    "P_B = 50/100\n",
    "P_BD = P_B*P_DB/(P_B*P_DB + (1 - P_B)*(1 - P_DcBc))\n",
    "print(\"%.4f\" % P_BD)"
   ]
  },
  {
   "cell_type": "markdown",
   "metadata": {},
   "source": [
    "*Nhận xét*: xác suất này rất cao!"
   ]
  },
  {
   "cell_type": "markdown",
   "metadata": {},
   "source": [
    "Ý nghĩa của xét nghiệm không chỉ nằm ở trường hợp ra dương tính. Trường hợp ra âm tính cũng rất có ý nghĩa. Chẳng hạn, ta nằm trong nhóm nguy cơ cao nhiễm COVID-19 với xác suất tiên nghiệm $P(B) = 50\\%$. Với các thông số của xét nghiệm như trên và xét nghiệm ra âm tính, xác suất hậu nghiệm khi đó là:\n",
    "$$P(B|D^c) = \\frac{P(B)P(D^c|B)}{P(B)P(D^c|B) + P(B^c)P(D^c|B^c)}$$"
   ]
  },
  {
   "cell_type": "markdown",
   "metadata": {},
   "source": [
    "Thế số ta có:"
   ]
  },
  {
   "cell_type": "code",
   "execution_count": 15,
   "metadata": {},
   "outputs": [
    {
     "name": "stdout",
     "output_type": "stream",
     "text": [
      "0.0952\n"
     ]
    }
   ],
   "source": [
    "P_B = 50/100\n",
    "P_BDc = P_B*(1 - P_DB)/(P_B*(1 - P_DB) + (1 - P_B)*P_DcBc)\n",
    "print(\"%.4f\" % P_BDc)"
   ]
  },
  {
   "cell_type": "markdown",
   "metadata": {},
   "source": [
    "*Nhận xét*: xác suất này \"thấp\"."
   ]
  },
  {
   "cell_type": "markdown",
   "metadata": {},
   "source": [
    "Thật ra, với tình hình COVID-19 hiện nay ở nước ta (ít dụng cụ xét nghiệm, rất ít người nhiễm và nếu không cách ly người nhiễm sẽ làm lây lan rất nhiều) thì ta nên dùng xét nghiệm có độ nhạy cao (chấp nhận giảm độ đặc hiệu), ưu tiên xét nghiệm những người có nguy cơ cao và chú trọng đến kết quả âm tính."
   ]
  },
  {
   "cell_type": "markdown",
   "metadata": {},
   "source": [
    "Chẳng hạn dùng xét nghiệm có:\n",
    "* Độ nhạy: $P(D|B) = 99.9\\%$\n",
    "* Độ đặc hiệu: $P(D^c|B^c) = 80\\%$"
   ]
  },
  {
   "cell_type": "markdown",
   "metadata": {},
   "source": [
    "Người có nguy cơ nhiễm cao với $P(B) = 50\\%$, khi xét nghiệm ra âm tính, thì xác suất bị nhiễm $P(B|D^c)$ là:"
   ]
  },
  {
   "cell_type": "code",
   "execution_count": 16,
   "metadata": {},
   "outputs": [
    {
     "name": "stdout",
     "output_type": "stream",
     "text": [
      "0.0012\n"
     ]
    }
   ],
   "source": [
    "P_DB = 99.9/100; P_DcBc = 80/100\n",
    "P_B = 50/100\n",
    "P_BDc = P_B*(1 - P_DB)/(P_B*(1 - P_DB) + (1 - P_B)*P_DcBc)\n",
    "print(\"%.4f\" % P_BDc)"
   ]
  },
  {
   "cell_type": "markdown",
   "metadata": {},
   "source": [
    "*Nhận xét*: xác suất này khá thấp!"
   ]
  },
  {
   "cell_type": "markdown",
   "metadata": {},
   "source": [
    "Để chắc ăn hơn, ta xét nghiệm lần nữa và nếu vẫn âm tính thì xác suất bị nhiễm khi đó là:"
   ]
  },
  {
   "cell_type": "code",
   "execution_count": 17,
   "metadata": {},
   "outputs": [
    {
     "name": "stdout",
     "output_type": "stream",
     "text": [
      "0.00000156\n"
     ]
    }
   ],
   "source": [
    "P_B2 = P_BDc\n",
    "P_BDc2 = P_B2*(1 - P_DB)/(P_B2*(1 - P_DB) + (1 - P_B2)*P_DcBc)\n",
    "print(\"%.8f\" % P_BDc2)"
   ]
  },
  {
   "cell_type": "markdown",
   "metadata": {},
   "source": [
    "*Nhận xét*: xác suất này rất thấp!"
   ]
  },
  {
   "cell_type": "markdown",
   "metadata": {},
   "source": [
    "Để chắc ăn hơn nữa, ta xét nghiệm lần 3 và nếu vẫn âm tính thì xác suất bị nhiễm khi đó là:"
   ]
  },
  {
   "cell_type": "code",
   "execution_count": 18,
   "metadata": {},
   "outputs": [
    {
     "name": "stdout",
     "output_type": "stream",
     "text": [
      "0.0000000020\n"
     ]
    }
   ],
   "source": [
    "P_B3 = P_BDc2\n",
    "P_BDc3 = P_B3*(1 - P_DB)/(P_B3*(1 - P_DB) + (1 - P_B3)*P_DcBc)\n",
    "print(\"%.10f\" % P_BDc3)"
   ]
  },
  {
   "cell_type": "markdown",
   "metadata": {},
   "source": [
    "*Nhận xét*: xác suất này cực thấp!"
   ]
  },
  {
   "cell_type": "markdown",
   "metadata": {},
   "source": [
    "## Bài tập\n",
    "\n",
    "> SV hoàn thành các bài tập sau đây."
   ]
  },
  {
   "cell_type": "markdown",
   "metadata": {},
   "source": [
    "### Bài tập 1."
   ]
  },
  {
   "cell_type": "markdown",
   "metadata": {},
   "source": [
    "a) Tung một con xúc xắc và cho biết rằng thu được mặt lẻ. Tính xác suất để mặt đó không vượt quá $3.$\n",
    "\n",
    "b) Bốc ngẫu nhiên một lá bài và biết rằng lá đó màu đỏ. Tính xác suất để lá đó là $10.$\n",
    "\n",
    "c) Tung ngẫu nhiên hai con xúc xắc và cho biết rằng tổng các mặt là $7$. Tính xác suất để con xúc xắc $1$ là lớn hơn $4.$"
   ]
  },
  {
   "cell_type": "markdown",
   "metadata": {},
   "source": [
    "$$\\text{Bài làm}$$\n",
    "a) Do mỗi mặt của xúc xắc đều riêng biệt nên mỗi mặt có xác suất $P(X) = \\frac 1 6$\\\n",
    "Gọi B là biến cố để xuất hiện mặt không vượt quá 3, tập giá trị thỏa mãn là {1, 2, 3}.\\\n",
    "Gọi A là biến cố để xuất hiện mặt là lẻ, tập giá trị thỏa mãn là {1, 3, 5} nên xác suất\n",
    "$$P(A) = P(1) + P(3) + P(5) = \\frac 1 2$$\n",
    "Xác suất để cùng lúc xảy ra A và B là $P(AB) = \\frac 1 3$ Do tập thỏa mãn là {1, 3} \\\n",
    "Dùng công thức Bayes, ta có: $$P(B | A) = \\frac{P(AB)}{P(A)}$$\n",
    "\n",
    "Thế số ta được"
   ]
  },
  {
   "cell_type": "code",
   "execution_count": 20,
   "metadata": {},
   "outputs": [
    {
     "data": {
      "text/plain": [
       "0.6666666666666666"
      ]
     },
     "execution_count": 20,
     "metadata": {},
     "output_type": "execute_result"
    }
   ],
   "source": [
    "PA = 1/2; PAB = 1/3\n",
    "PAB / PA"
   ]
  },
  {
   "cell_type": "markdown",
   "metadata": {},
   "source": [
    "b) Cách viết biến đổi không gian mẫu\\\n",
    "$\\Omega = \\Omega_{A} =$ các lá đỏ $\\Rightarrow |\\Omega_{A}| = 26$\\\n",
    "$\\Omega_{AB} = $ {10 cơ, 10 rô}\\"
   ]
  },
  {
   "cell_type": "markdown",
   "metadata": {},
   "source": [
    "$\\Rightarrow P(B | A) = \\frac {P(AB)} {P(A)} = \\frac 2 {26} = \\frac 1 {13}$\n",
    "Thế số ta được"
   ]
  },
  {
   "cell_type": "code",
   "execution_count": 29,
   "metadata": {},
   "outputs": [
    {
     "data": {
      "text/plain": [
       "0.07692307692307693"
      ]
     },
     "execution_count": 29,
     "metadata": {},
     "output_type": "execute_result"
    }
   ],
   "source": [
    "PB = 1/13\n",
    "PB"
   ]
  },
  {
   "cell_type": "markdown",
   "metadata": {},
   "source": [
    "c) Có $|\\Omega| = 6 * 6 = 36$\\\n",
    "Gọi A là biến cố tung hai mặt có tổng bẳng $7$ $\\Rightarrow P(A) = \\frac {6} {36} = \\frac 1 6$\\\n",
    "Gọi B là biến cố xúc xắc $1$ lớn hơn $4$\\\n",
    "Xác suất để A và B cùng xảy ra là $P(AB) = \\frac 2 {36} = \\frac 1 {18}$\\\n",
    "Dùng công thức Bayes, ta có: $$P(B|A) = \\frac {P(AB)} {P(A)}$$\n",
    "Thế số ta được"
   ]
  },
  {
   "cell_type": "code",
   "execution_count": 23,
   "metadata": {},
   "outputs": [
    {
     "data": {
      "text/plain": [
       "0.3333333333333333"
      ]
     },
     "execution_count": 23,
     "metadata": {},
     "output_type": "execute_result"
    }
   ],
   "source": [
    "PAB = 1/18; PA = 1/6\n",
    "PAB / PA"
   ]
  },
  {
   "cell_type": "markdown",
   "metadata": {},
   "source": [
    "### Bài tập 2."
   ]
  },
  {
   "cell_type": "markdown",
   "metadata": {},
   "source": [
    "Trên bàn, có 3 túi và mỗi túi có chứa $100$ viên bi. Biết rằng: túi 1 có $75$ đỏ, $25$ xanh; túi 2 có $60$ đỏ, $40$ xanh; túi 3 có $45$ đỏ và $55$ xanh. Chọn ngẫu nhiên ra một túi và tiếp tục bốc ngẫu nhiên ra một bi từ đó. Tính xác suất bốc được bi đỏ."
   ]
  },
  {
   "cell_type": "markdown",
   "metadata": {},
   "source": [
    "Do bốc ngẫu nhiên 3 túi nên xác suất bốc trúng mỗi túi là $$P(A_1) = P(A_2) = P(A_3) = \\frac 1 3$$\n",
    "Gọi B là xác suất để bốc bi đỏ\n",
    "\\begin{align*}\n",
    "    P(B|A_1) = 0.75\\\\\n",
    "    P(B|A_2) = 0.60\\\\\n",
    "    P(B|A_3) = 0.45\n",
    "\\end{align*}\n",
    "\n",
    "Xác suất để bốc ra bi đỏ là $$P(B) = \\sum_{i=1}^3 P(A_i)P(B|A_i)$$\n",
    "Thế số ta được"
   ]
  },
  {
   "cell_type": "code",
   "execution_count": 26,
   "metadata": {},
   "outputs": [
    {
     "data": {
      "text/plain": [
       "0.6"
      ]
     },
     "execution_count": 26,
     "metadata": {},
     "output_type": "execute_result"
    }
   ],
   "source": [
    "PA = [1/3, 1/3, 1/3]\n",
    "PB_A = [0.75, 0.60, 0.45]\n",
    "sum(x * y for x, y in zip(PA, PB_A))"
   ]
  },
  {
   "cell_type": "markdown",
   "metadata": {},
   "source": [
    "### Bài tập 3."
   ]
  },
  {
   "cell_type": "markdown",
   "metadata": {},
   "source": [
    "Một hộp có 2 đồng xu: một đồng bình thường (có 2 mặt số 0 và 1), và một đồng fake có hai mặt đều là 1. Chọn ngẫu nhiên một đồng và tung nó 2 lần. Xét các xác suất sau đây:\n",
    "\n",
    "* A: lần đầu tung được mặt 1.\n",
    "* B: lần hai tung được mặt 1.\n",
    "* C: đồng xu bình thường được chọn.\n",
    "\n",
    "Tính các xác suất sau đây: $P(A|C), P(B|C), P(A + B|C), P(A), P(B), P(AB).$"
   ]
  },
  {
   "cell_type": "markdown",
   "metadata": {},
   "source": [
    "$$\\text{Bài làm}$$"
   ]
  },
  {
   "cell_type": "markdown",
   "metadata": {},
   "source": [
    "**Tính P(A|C)**\\\n",
    "Do đã biết trước là đồng xu bình thường nên $P(A|C) = 0.5$"
   ]
  },
  {
   "cell_type": "markdown",
   "metadata": {},
   "source": [
    "**Tính P(B|C)**\\\n",
    "Do A|C độc lập với B|C $\\Rightarrow P(B|C) = 0.5$"
   ]
  },
  {
   "cell_type": "markdown",
   "metadata": {},
   "source": [
    "**Tính P(A+B|C)**\\\n",
    "Từ phần trước ta có tính chât $P(A+B|C) = P(A|C)P(B|C)=0.25$"
   ]
  },
  {
   "cell_type": "markdown",
   "metadata": {},
   "source": [
    "**Tính P(A)**\\\n",
    "$P(A) = P(C)P(A|C) + P(C^c)P(A^c) = 0.5 \\times 0.5 + 0.5 \\times 1 = 0.75$"
   ]
  },
  {
   "cell_type": "markdown",
   "metadata": {},
   "source": [
    "**Tính P(B)**\\\n",
    "$P(B) = P(C)P(B|C) + P(C^c)P(B|C^c) = 0.5 \\times 0.5 + 0.5 \\times 1 = 0.75$"
   ]
  },
  {
   "cell_type": "markdown",
   "metadata": {},
   "source": [
    "**Tính P(AB)**\\\n",
    "$P(AB) = P(C)P(AB|C) + P(C^c)P(AB|C^c) = 0.5 \\times 0.25 + 0.5 \\times 1 = 0.625$"
   ]
  },
  {
   "cell_type": "markdown",
   "metadata": {},
   "source": [
    "*Nhận xét:* $P(AB) \\ne P(A)P(B)$ nên tuy $P(A|C)$ và $P(B|C)$ độc lập và $P(AB|C) = P(A|C)P(B|C)$ nhưng $A$ và $B$ chưa chắc độc lập"
   ]
  },
  {
   "cell_type": "markdown",
   "metadata": {},
   "source": [
    "### Bài tập 4."
   ]
  },
  {
   "cell_type": "markdown",
   "metadata": {},
   "source": [
    "Giả sử rằng ở khu phố của bạn, trời mưa 1/3 số ngày trong năm. Lúc trời mưa, việc tắc đường sẽ xảy ra với xác suất 1/2 , và nếu trời không mưa, việc tắc đường sẽ xảy ra với xác suất 1/4 . Nếu trời mưa và có tắc đường, bạn sẽ đi làm muộn với xác suất là 1/2. Mặt khác, xác suất đến muộn giảm xuống còn 1/8 nếu trời không mưa và không có tắc đường. Trong các tình huống khác (trời mưa và tắc đường, không mưa và tắc đường) xác suất đến muộn là 1/4. Bạn chọn một ngày ngẫu nhiên.\n",
    "\n",
    " \n",
    "a) Xác suất để trời vừa không mưa, vừa có tắc đường và bạn vừa không đến trễ là bao nhiêu?\n",
    "\n",
    "b) Xác suất bạn đi làm muộn là bao nhiêu?\n",
    "\n",
    "c) Cho rằng bạn đi làm muộn, xác suất trời mưa vào ngày hôm đó là bao nhiêu?"
   ]
  },
  {
   "cell_type": "markdown",
   "metadata": {},
   "source": [
    "$$\\text{Bài làm}$$"
   ]
  },
  {
   "cell_type": "markdown",
   "metadata": {},
   "source": [
    "a) Xác suất là : $\\frac{2}{3} * \\frac{1}{4} * \\frac{3}{4} = \\frac{1}{8} $"
   ]
  },
  {
   "cell_type": "markdown",
   "metadata": {},
   "source": [
    "b) Xác suất là: tổng của 4 nhánh có đầu ra là đi muộn (hình ảnh đính kèm bên dưới) : \\\n",
    "$\\frac{1}{3} * \\frac{1}{2} * \\frac{1}{2} + \\frac{1}{3}*\\frac{1}{2}*\\frac{1}{4} + \\frac{2}{3} * \\frac{1}{4} * \\frac{3}{4} + \\frac{2}{3} * \\frac{3}{4} * \\frac{1}{8} = \\frac{5}{16}$"
   ]
  },
  {
   "cell_type": "markdown",
   "metadata": {},
   "source": [
    "c) Gọi A là biến cố đi muộn và B là biến cố trời mưa, cần tính P(B|A) = P(AB) / P(A) = tổng 2 nhánh trên chia cho tổng 4 nhánh đã tính được ở b)."
   ]
  },
  {
   "cell_type": "markdown",
   "metadata": {},
   "source": [
    "Vẽ sơ đồ để tính xác suất"
   ]
  },
  {
   "cell_type": "markdown",
   "metadata": {},
   "source": [
    "![image.png](data:image/png;base64,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)"
   ]
  },
  {
   "cell_type": "markdown",
   "metadata": {},
   "source": []
  }
 ],
 "metadata": {
  "hide_input": false,
  "kernelspec": {
   "display_name": "Python 3 (ipykernel)",
   "language": "python",
   "name": "python3"
  },
  "language_info": {
   "codemirror_mode": {
    "name": "ipython",
    "version": 3
   },
   "file_extension": ".py",
   "mimetype": "text/x-python",
   "name": "python",
   "nbconvert_exporter": "python",
   "pygments_lexer": "ipython3",
   "version": "3.11.7"
  }
 },
 "nbformat": 4,
 "nbformat_minor": 4
}
