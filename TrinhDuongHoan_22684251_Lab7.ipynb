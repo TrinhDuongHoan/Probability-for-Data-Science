{
 "cells": [
  {
   "cell_type": "markdown",
   "id": "5e303550",
   "metadata": {},
   "source": [
    "## XÁC SUẤT TRONG KHOA HỌC DỮ LIỆU IUH 2024\n",
    "\n",
    "### Lab 7. Định lý giới hạn trung tâm. Luật số lớn. (ngày 01/04)"
   ]
  },
  {
   "cell_type": "markdown",
   "id": "fce87152",
   "metadata": {},
   "source": [
    "### 1. Lý thuyết."
   ]
  },
  {
   "cell_type": "markdown",
   "id": "1dfc2e18",
   "metadata": {},
   "source": [
    "Ta có định lý sau đây (*giới hạn trung tâm*): Nếu đại lượng ngẫu nhiên $X$ là tổng của một số rất lớn các đại lượng ngẫu nhiên độc lập và sự đóng góp, ảnh hưởng của mỗi đại lượng là không đáng kể thì $X$ sẽ có phân bố chuẩn hoặc xấp xỉ một phân bố chuẩn. Điều này cho ta quy các bài toán phức tạp, khó tính toán được bằng cách thông thường, về phân phối chuẩn và giải quyết nó dễ dàng."
   ]
  },
  {
   "cell_type": "markdown",
   "id": "55721ea4",
   "metadata": {},
   "source": [
    "Bên cạnh đó còn có quy tắc sau (*luật số lớn*): Giả sử $X_1, X_2, ..., X_n$ là dãy các đại lượng **ngẫu nhiên độc lập** có cùng phân bố và có kỳ vọng là $\\mu$, phương sai là $\\sigma^2$. Khi đó nếu $n \\to +\\infty$ thì trung bình cộng \n",
    "$$X = \\frac{X_1+X_2+...+X_n}{n} \\to \\mu.$$"
   ]
  },
  {
   "cell_type": "markdown",
   "id": "dbfd2065",
   "metadata": {},
   "source": [
    "> Bên dưới, ta sẽ nghiên cứu một số xấp xỉ của các phân bố quen thuộc dựa theo định lý và quy luật ở trên: <br>"
   ]
  },
  {
   "cell_type": "markdown",
   "id": "fbd8b5f8",
   "metadata": {},
   "source": [
    "- i) Nếu $n$ lớn và $p$ nhỏ, ta dùng phân phối Poisson để xấp xỉ cho phân phối nhị thức, thường lấy $n > 50.$\n",
    "- ii) Nếu $n$ lớn và $np$ không nhỏ, ta dùng phân phối chuẩn để xấp xỉ, cụ thể là $n > 100$, $np > 5$ và $n(1-p) > 5.$"
   ]
  },
  {
   "cell_type": "markdown",
   "id": "3f593ac0",
   "metadata": {},
   "source": [
    "1. Cho dãy $(X_n)$ là dãy các đại lượng ngẫu nhiên tuân theo phân bố nhị thức, trong đó với mỗi $n$ thì $X_n$ là phân bố nhị thức với tham số $(n,p_n).$ Giả sử rằng tồn tại giới hạn $\\lim n \\cdot p_n = \\lambda.$ Khi đó $X_n$ tuân theo phân bố Poisson với tham số $\\lambda.$ Như vậy, với $n$ khá lớn và $p_n$ bé thì xấp xỉ là tốt."
   ]
  },
  {
   "cell_type": "markdown",
   "id": "953f7d4c",
   "metadata": {},
   "source": [
    "2. Khi một phân phối nhị thức thỏa mãn điều kiện ii) ở trên, ta có thể dùng phân phối chuẩn để xấp xỉ cho nó, với $X \\sim N(\\mu, \\sigma)$ với\n",
    "$$\\mu= np, \\, \\sigma^2 = np(1-p).$$\n",
    "Hiệu chỉnh liên tục: chú ý thêm rằng với số nguyên $x$, ta có thể điều chỉnh để xác suất chuẩn hơn:\n",
    "- $P(X \\ge a) \\to P(X \\ge x-0.5)$;\n",
    "- $P(X \\le a) \\to P(X \\le x+0.5)$;\n",
    "- $P(X > a) \\to P(X \\ge a+0.5)$;\n",
    "- $P(X < a) \\to P(X \\le a-0.5)$;\n",
    "- $P(X = a) \\to P(x-0.5 \\le X \\ge x+0.5)$;"
   ]
  },
  {
   "cell_type": "markdown",
   "id": "0b069353",
   "metadata": {},
   "source": [
    "3. Cho dãy $(X_n)$ là dãy các đại lượng ngẫu nhiên liên tục, độc lập nhau có cùng một phân bố với kỳ vọng $EX = \\mu$ và phương sai $DX = \\sigma^2$. Khi đó\n",
    "- Trung bình cộng $T_n = \\frac{X_1+X_2+...+X_n}{n}$ có xấp xỉ bởi phân phối chuẩn $N(\\mu, \\frac{\\sigma}{\\sqrt{n}}).$\n",
    "- Tổng $S_n = X_1+X_2+...+X_n$ có xấp xỉ bởi phân phối chuẩn $N(n\\mu, \\sigma\\sqrt{n}).$"
   ]
  },
  {
   "cell_type": "markdown",
   "id": "91cd356f",
   "metadata": {},
   "source": [
    "### 2. Bài tập.\n",
    "*Từ các nội dung trên, hãy thực hiện các yêu cầu sau:* <br>\n",
    "\n",
    "1. Khu nhà có $160$ hộ gia đình. Xác suất để mỗi hộ có sự cố về điện vào mỗi buổi tối là $0.02.$ Hãy dùng xấp xỉ thành phân phối Poisson, tính xác sất để trong một buổi tối số gia đình gặp sự cố về điện là từ $2$ đến $5.$"
   ]
  },
  {
   "cell_type": "code",
   "execution_count": null,
   "id": "76f9acb6",
   "metadata": {},
   "outputs": [],
   "source": [
    "#CODE HERE"
   ]
  },
  {
   "cell_type": "markdown",
   "id": "73b67dd9",
   "metadata": {},
   "source": [
    "2. Xí nghiệp sản xuất máy tính có xác suất làm ra phế phẩm là $0.02$. Chọn ngẫu nhiên $250$ máy tính để kiểm tra. Hãy dùng xấp xỉ thành phân phối Poisson, tính xác suất để có không quá 3 máy phế phẩm."
   ]
  },
  {
   "cell_type": "code",
   "execution_count": null,
   "id": "6bba7985",
   "metadata": {},
   "outputs": [],
   "source": [
    "#CODE HERE"
   ]
  },
  {
   "cell_type": "markdown",
   "id": "a637ee58",
   "metadata": {},
   "source": [
    "3. Một xưởng in sách thấy rằng trung bình một quyển sách $500$ trang thì có chứa $300$ lỗi. Tìm xác suất để trong một trang sách có đúng $2$ lỗi, có ít nhất $2$ lỗi? Hãy giải thích tại sao không làm trực tiếp mà phải dùng xấp xỉ, và lý do tại sao việc xấp xỉ ở đây là hợp lệ. <br>"
   ]
  },
  {
   "cell_type": "code",
   "execution_count": null,
   "id": "7a877a51",
   "metadata": {},
   "outputs": [],
   "source": [
    "#CODE HERE"
   ]
  },
  {
   "cell_type": "markdown",
   "id": "68b9ba33",
   "metadata": {},
   "source": [
    "4. Xác suất làm một chiếc đinh ốc không đúng quy cách là $0.015$ và người ta xếp đinh ốc vào từng hộp, mỗi hộp có $100$ cái. Tính xác suất để hộp chứa toàn đinh ốc đúng quy cách. Tìm $n$ sao cho xác suất để lấy được $100$ đinh ốc đúng quy cách trong $n$ cái là không nhỏ hơn $0.8$. <br>"
   ]
  },
  {
   "cell_type": "code",
   "execution_count": null,
   "id": "1659cca0",
   "metadata": {},
   "outputs": [],
   "source": [
    "#CODE HERE"
   ]
  },
  {
   "cell_type": "markdown",
   "id": "7b8be18a",
   "metadata": {},
   "source": [
    "5. Giả sử thời gian trung bình mà sinh viên đại học cần để hoàn thành bằng cấp là 4.7 năm. Độ lệch chuẩn là 0.3. Xác suất mà 40 sinh viên đại học được chọn ngẫu nhiên sẽ có thời gian hoàn thành trung bình dưới 4.4 năm là bao nhiêu?\n"
   ]
  },
  {
   "cell_type": "code",
   "execution_count": null,
   "id": "f5f291b1",
   "metadata": {},
   "outputs": [],
   "source": [
    "#CODE HERE"
   ]
  },
  {
   "cell_type": "markdown",
   "id": "6bbd096f",
   "metadata": {},
   "source": [
    "6. Giả sử việc tăng cổ phiếu tuân theo phân phối chuẩn với giá trị trung bình là 3 phần trăm và độ lệch chuẩn là 5 phần trăm. Nếu danh mục đầu tư (được chọn ngẫu nhiên) của bạn bao gồm 20 cổ phiếu, xác suất danh mục đầu tư của bạn sẽ mất tiền là bao nhiêu?"
   ]
  },
  {
   "cell_type": "code",
   "execution_count": null,
   "id": "a4e2cbfa",
   "metadata": {},
   "outputs": [],
   "source": [
    "#CODE HERE"
   ]
  },
  {
   "cell_type": "markdown",
   "id": "b9113080",
   "metadata": {},
   "source": [
    "7. Giả sử điểm trung bình chung của sinh viên đại học là 3,1 và độ lệch chuẩn là 0,7. Một lớp gồm 35 sinh viên được chọn ngẫu nhiên sẽ được coi là có rủi ro cao nếu điểm trung bình trung bình của họ nhỏ hơn 2%. Điểm trung bình lớn nhất sẽ được coi là rủi ro cao là bao nhiêu?\n"
   ]
  },
  {
   "cell_type": "code",
   "execution_count": null,
   "id": "a4b4a670",
   "metadata": {},
   "outputs": [],
   "source": [
    "#CODE HERE"
   ]
  },
  {
   "cell_type": "markdown",
   "id": "4b38adbe",
   "metadata": {},
   "source": [
    "8. Gieo một con xúc sắc đối xứng tổng cộng $30$ lần. Tính xác suất để tổng số nút thu được là không vượt quá $100$, là lớn hơn $120.$ <br>"
   ]
  },
  {
   "cell_type": "code",
   "execution_count": null,
   "id": "f9bd294b",
   "metadata": {},
   "outputs": [],
   "source": [
    "#CODE HERE"
   ]
  },
  {
   "cell_type": "markdown",
   "id": "b522768c",
   "metadata": {},
   "source": [
    "9. Trong khu phố có: $180$ hộ dân có $2$ người có lượng nước sinh hoạt sử dụng là đại lượng ngẫu nhiên có giá trị trung bình $0.6m^3$, độ lệch chuẩn $0.04m^3$ và $50$ hộ có hơn $2$ người có lượng nước sinh hoạt sử dụng là đại lượng ngẫu nhiên có giá trị trung bình $1.9m^3$, độ lệch chuẩn $0.14m^3$. Tính xác suất để trong một ngày, khu phố đó dùng hơn $205m^3$ nước."
   ]
  },
  {
   "cell_type": "code",
   "execution_count": null,
   "id": "fa32b69c",
   "metadata": {},
   "outputs": [],
   "source": [
    "#CODE HERE"
   ]
  },
  {
   "cell_type": "markdown",
   "id": "51682b49",
   "metadata": {},
   "source": [
    "### 3. Nhắc lại về simulation\n",
    "Bằng việc simulation đã biết, ta có thể giải các bài toán xấp xỉ ở trên theo một góc độ khác. Hãy giải bài toán sau:"
   ]
  },
  {
   "cell_type": "markdown",
   "id": "c56b48ad",
   "metadata": {},
   "source": [
    "10. Gieo một con xúc xắc có các mặt là $(a,a,b,b,c,c)$ đồng chất, tổng cộng $51$ lần độc lập, trong đó $a < b < c$ là ba chữ số lớn nhất trong mã số sinh viên của anh/chị (SV tự thay số vào), chẳng hạn MSSV = $20104821$ thì $(a,b,c) = (2,4,8)$.\n",
    "- a) Tính xác suất để **tổng** số nút thu được là không vượt quá $18a+17b+16c$. \n",
    "- b) Hãy ước lượng kết quả một lần nữa bằng việc điều chỉnh lại hàm giả lập bên dưới thích hợp:"
   ]
  },
  {
   "cell_type": "code",
   "execution_count": null,
   "id": "3d32403b",
   "metadata": {},
   "outputs": [],
   "source": [
    "import random\n",
    "def simulate_xucxac(N):\n",
    "    m = 0\n",
    "    dice = ... #thêm code vào để khai báo các mặt xúc xắc\n",
    "    for _ in range(N):\n",
    "        s = sum(random.choice(dice) for _ in range(51)) #tổng các số sau 51 lần tung\n",
    "        if (...): #điền điều kiện vào\n",
    "            m = m+1\n",
    "    return m/N\n",
    "simulate_xucsac(...) #simulate với số lần đủ lớn thích hợp"
   ]
  }
 ],
 "metadata": {
  "kernelspec": {
   "display_name": "Python 3",
   "language": "python",
   "name": "python3"
  },
  "language_info": {
   "codemirror_mode": {
    "name": "ipython",
    "version": 3
   },
   "file_extension": ".py",
   "mimetype": "text/x-python",
   "name": "python",
   "nbconvert_exporter": "python",
   "pygments_lexer": "ipython3",
   "version": "3.8.8"
  }
 },
 "nbformat": 4,
 "nbformat_minor": 5
}
